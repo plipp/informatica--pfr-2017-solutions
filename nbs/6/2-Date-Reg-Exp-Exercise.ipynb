{
 "cells": [
  {
   "cell_type": "markdown",
   "metadata": {},
   "source": [
    "# Exercise 1\n",
    "\n",
    "Parse the following dates and sort them by first 'date' then 'index' (== original position) and return a Series in the following form:\n",
    "```\n",
    "23   1971-07-08\n",
    "19   2008-06-01\n",
    "7    2009-01-01\n",
    "21   2009-01-01\n",
    "16   2009-02-01\n",
    "4    2009-03-20\n",
    "5    2009-03-20\n",
    "6    2009-03-20\n",
    "9    2009-03-20\n",
    "10   2009-03-20\n",
    "11   2009-03-20\n",
    "12   2009-03-20\n",
    "13   2009-03-20\n",
    "14   2009-03-21\n",
    "15   2009-03-22\n",
    "0    2009-04-20\n",
    "1    2009-04-20\n",
    "17   2009-09-01\n",
    "20   2009-12-01\n",
    "22   2010-01-01\n",
    "18   2010-10-01\n",
    "3    2011-04-03\n",
    "2    2014-04-20\n",
    "8    2017-03-20\n",
    "Name: dt, dtype: datetime64[ns]\n",
    "```\n",
    "Hints:\n",
    "- first column is the original position (index)\n",
    "- think about using `pd.to_datetime()`"
   ]
  },
  {
   "cell_type": "code",
   "execution_count": 22,
   "metadata": {},
   "outputs": [
    {
     "data": {
      "text/plain": [
       "0                  I come at 04/20/2009 ...\n",
       "1                        04/20/09 in Bremen\n",
       "2                             4/20/14 maybe\n",
       "3                 or 4/3/2011 also possible\n",
       "4     never at Mar-20-2009, but maybe later\n",
       "5             how about Mar 20, 2009 or not\n",
       "6             Moskow: March 20, 2009, 12:00\n",
       "7           in Koeln, Mar. 20, 2009 however\n",
       "8                     Why not Mar 20 2017 ?\n",
       "9             Clear picture for 20 Mar 2009\n",
       "10             In the iden of 20 March 2009\n",
       "11                  20 Mar. 2009 in Dresden\n",
       "12                        20 March, 2009 BR\n",
       "13                   Mar 20th, 2009 Hamburg\n",
       "14             Current date: Mar 21st, 2009\n",
       "15            Mar 22nd is spring, 2009 Kiel\n",
       "16                       Feb 2009 is winter\n",
       "17                                 Sep 2009\n",
       "18                     long ago in Oct 2010\n",
       "19              6/2008 vacation in Schwerin\n",
       "20                         12/2009 blackout\n",
       "21                             2009 timeout\n",
       "22            Year 2010 the rest is history\n",
       "23              Soccer game at 7/8/71 in NY\n",
       "dtype: object"
      ]
     },
     "execution_count": 22,
     "metadata": {},
     "output_type": "execute_result"
    }
   ],
   "source": [
    "import pandas as pd\n",
    "\n",
    "time_values = '''I come at 04/20/2009 ...; 04/20/09 in Bremen; 4/20/14 maybe; or 4/3/2011 also possible; \n",
    "never at Mar-20-2009, but maybe later; how about Mar 20, 2009 or not; Moskow: March 20, 2009, 12:00; \n",
    "in Koeln, Mar. 20, 2009 however; Why not Mar 20 2017 ?; Clear picture for 20 Mar 2009; In the iden of 20 March 2009;\n",
    "20 Mar. 2009 in Dresden; 20 March, 2009 BR; Mar 20th, 2009 Hamburg; Current date: Mar 21st, 2009; \n",
    "Mar 22nd is spring, 2009 Kiel; Feb 2009 is winter; Sep 2009; long ago in Oct 2010; 6/2008 vacation in Schwerin; 12/2009 blackout; 2009 timeout; Year 2010 the rest is history;\n",
    "Soccer game at 7/8/71 in NY'''\n",
    "\n",
    "time_s = pd.Series(time_values.split(';')).str.strip()\n",
    "time_s"
   ]
  },
  {
   "cell_type": "code",
   "execution_count": 23,
   "metadata": {},
   "outputs": [
    {
     "data": {
      "text/plain": [
       "23   1971-07-08\n",
       "19   2008-06-01\n",
       "7    2009-01-01\n",
       "15   2009-01-01\n",
       "21   2009-01-01\n",
       "16   2009-02-01\n",
       "4    2009-03-20\n",
       "5    2009-03-20\n",
       "6    2009-03-20\n",
       "9    2009-03-20\n",
       "10   2009-03-20\n",
       "11   2009-03-20\n",
       "12   2009-03-20\n",
       "13   2009-03-20\n",
       "14   2009-03-21\n",
       "0    2009-04-20\n",
       "1    2009-04-20\n",
       "17   2009-09-01\n",
       "20   2009-12-01\n",
       "22   2010-01-01\n",
       "18   2010-10-01\n",
       "3    2011-04-03\n",
       "2    2014-04-20\n",
       "8    2017-03-20\n",
       "Name: dt, dtype: datetime64[ns]"
      ]
     },
     "execution_count": 23,
     "metadata": {},
     "output_type": "execute_result"
    }
   ],
   "source": [
    "def date_sorter(df):\n",
    "    pattern1 = '(\\d{1,2}-\\d{1,2}-[12]?\\d{2,3})'\n",
    "    pattern2 = '((\\d{1,2}/)*(\\d{1,2})*/[12]?\\d{2,3})'\n",
    "    pattern3 = '(\\d{1,2}\\s)*((january|february|march|april|june|july|august|september|october|november|december)[-,.\\s]?(\\d{1,2}\\w*)?[-,.\\s]*([12]\\d{3}))'\n",
    "    pattern4 = '(\\d{1,2}\\s)*((jan|feb|mar|apr|may|jun|jul|aug|sep|oct|nov|dec)[-,.\\s]?(\\d{1,2}\\w*)?[-,.\\s]*([12]\\d{3}))'\n",
    "    pattern5 = '[12]\\d{3}'\n",
    "\n",
    "    pattern = '(%s|%s|%s|%s|%s)' % (pattern1,pattern2,pattern3,pattern4,pattern5)\n",
    "\n",
    "    date_df = df.str.lower().str.extract(pattern, expand=False) \n",
    "    date_df['dt'] = pd.to_datetime(date_df[0], errors='coerce')\n",
    "    \n",
    "    return date_df.reset_index().sort_values(by=['dt','index'])['dt']\n",
    "\n",
    "date_sorter(time_s)"
   ]
  }
 ],
 "metadata": {
  "coursera": {
   "course_slug": "python-text-mining",
   "graded_item_id": "LvcWI",
   "launcher_item_id": "krne9",
   "part_id": "Mkp1I"
  },
  "kernelspec": {
   "display_name": "Python 3",
   "language": "python",
   "name": "python3"
  },
  "language_info": {
   "codemirror_mode": {
    "name": "ipython",
    "version": 3
   },
   "file_extension": ".py",
   "mimetype": "text/x-python",
   "name": "python",
   "nbconvert_exporter": "python",
   "pygments_lexer": "ipython3",
   "version": "3.6.1"
  }
 },
 "nbformat": 4,
 "nbformat_minor": 2
}
