{
 "cells": [
  {
   "cell_type": "markdown",
   "metadata": {
    "collapsed": true
   },
   "source": [
    "# Classification - Decision Tree Primer"
   ]
  },
  {
   "cell_type": "markdown",
   "metadata": {},
   "source": [
    "Classify Iris (flowers) by their sepal/petal width/length to their species: 'setosa' 'versicolor' 'virginica'\n",
    "![Flower](../images/5-1-flowerpartssepal.gif)[Original Image](https://encrypted-tbn0.gstatic.com/images?q=tbn:ANd9GcQBXkpMmJW9A6RAM90hUnz0iwyW_4FHsrPPrsNEePW7Hs_waUDJuw)"
   ]
  },
  {
   "cell_type": "code",
   "execution_count": 1,
   "metadata": {},
   "outputs": [
    {
     "data": {
      "text/plain": [
       "['Iris Plants Database',\n",
       " '====================',\n",
       " '',\n",
       " 'Notes',\n",
       " '-----',\n",
       " 'Data Set Characteristics:',\n",
       " '    :Number of Instances: 150 (50 in each of three classes)',\n",
       " '    :Number of Attributes: 4 numeric, predictive attributes and the class',\n",
       " '    :Attribute Information:',\n",
       " '        - sepal length in cm',\n",
       " '        - sepal width in cm',\n",
       " '        - petal length in cm',\n",
       " '        - petal width in cm',\n",
       " '        - class:',\n",
       " '                - Iris-Setosa',\n",
       " '                - Iris-Versicolour',\n",
       " '                - Iris-Virginica',\n",
       " '    :Summary Statistics:',\n",
       " '',\n",
       " '    ============== ==== ==== ======= ===== ====================',\n",
       " '                    Min  Max   Mean    SD   Class Correlation',\n",
       " '    ============== ==== ==== ======= ===== ====================',\n",
       " '    sepal length:   4.3  7.9   5.84   0.83    0.7826',\n",
       " '    sepal width:    2.0  4.4   3.05   0.43   -0.4194',\n",
       " '    petal length:   1.0  6.9   3.76   1.76    0.9490  (high!)',\n",
       " '    petal width:    0.1  2.5   1.20  0.76     0.9565  (high!)',\n",
       " '    ============== ==== ==== ======= ===== ====================',\n",
       " '',\n",
       " '    :Missing Attribute Values: None',\n",
       " '    :Class Distribution: 33.3% for each of 3 classes.',\n",
       " '    :Creator: R.A. Fisher',\n",
       " '    :Donor: Michael Marshall (MARSHALL%PLU@io.arc.nasa.gov)',\n",
       " '    :Date: July, 1988',\n",
       " '',\n",
       " 'This is a copy of UCI ML iris datasets.',\n",
       " 'http://archive.ics.uci.edu/ml/datasets/Iris',\n",
       " '',\n",
       " 'The famous Iris database, first used by Sir R.A Fisher',\n",
       " '',\n",
       " 'This is perhaps the best known database to be found in the',\n",
       " \"pattern recognition literature.  Fisher's paper is a classic in the field and\",\n",
       " 'is referenced frequently to this day.  (See Duda & Hart, for example.)  The',\n",
       " 'data set contains 3 classes of 50 instances each, where each class refers to a',\n",
       " 'type of iris plant.  One class is linearly separable from the other 2; the',\n",
       " 'latter are NOT linearly separable from each other.',\n",
       " '',\n",
       " 'References',\n",
       " '----------',\n",
       " '   - Fisher,R.A. \"The use of multiple measurements in taxonomic problems\"',\n",
       " '     Annual Eugenics, 7, Part II, 179-188 (1936); also in \"Contributions to',\n",
       " '     Mathematical Statistics\" (John Wiley, NY, 1950).',\n",
       " '   - Duda,R.O., & Hart,P.E. (1973) Pattern Classification and Scene Analysis.',\n",
       " '     (Q327.D83) John Wiley & Sons.  ISBN 0-471-22361-1.  See page 218.',\n",
       " '   - Dasarathy, B.V. (1980) \"Nosing Around the Neighborhood: A New System',\n",
       " '     Structure and Classification Rule for Recognition in Partially Exposed',\n",
       " '     Environments\".  IEEE Transactions on Pattern Analysis and Machine',\n",
       " '     Intelligence, Vol. PAMI-2, No. 1, 67-71.',\n",
       " '   - Gates, G.W. (1972) \"The Reduced Nearest Neighbor Rule\".  IEEE Transactions',\n",
       " '     on Information Theory, May 1972, 431-433.',\n",
       " '   - See also: 1988 MLC Proceedings, 54-64.  Cheeseman et al\"s AUTOCLASS II',\n",
       " '     conceptual clustering system finds 3 classes in the data.',\n",
       " '   - Many, many more ...',\n",
       " '']"
      ]
     },
     "execution_count": 1,
     "metadata": {},
     "output_type": "execute_result"
    }
   ],
   "source": [
    "from sklearn.datasets import load_iris\n",
    "from sklearn.tree import DecisionTreeClassifier\n",
    "from plotting_utilities import plot_decision_tree, plot_feature_importances\n",
    "from sklearn.model_selection import train_test_split\n",
    "\n",
    "import matplotlib.pyplot as plt\n",
    "%matplotlib inline\n",
    "\n",
    "iris = load_iris()\n",
    "iris.DESCR.split('\\n')"
   ]
  },
  {
   "cell_type": "code",
   "execution_count": 2,
   "metadata": {},
   "outputs": [
    {
     "name": "stdout",
     "output_type": "stream",
     "text": [
      "float64\n",
      "(150, 4)\n",
      "['sepal length (cm)', 'sepal width (cm)', 'petal length (cm)', 'petal width (cm)']\n"
     ]
    },
    {
     "data": {
      "text/plain": [
       "array([[ 5.1,  3.5,  1.4,  0.2],\n",
       "       [ 4.9,  3. ,  1.4,  0.2],\n",
       "       [ 4.7,  3.2,  1.3,  0.2],\n",
       "       [ 4.6,  3.1,  1.5,  0.2],\n",
       "       [ 5. ,  3.6,  1.4,  0.2]])"
      ]
     },
     "execution_count": 2,
     "metadata": {},
     "output_type": "execute_result"
    }
   ],
   "source": [
    "# IN: Features aka Predictors\n",
    "print(iris.data.dtype)\n",
    "print(iris.data.shape)\n",
    "\n",
    "print(iris.feature_names)\n",
    "iris.data[:5,:]"
   ]
  },
  {
   "cell_type": "code",
   "execution_count": 3,
   "metadata": {},
   "outputs": [
    {
     "name": "stdout",
     "output_type": "stream",
     "text": [
      "int64\n",
      "(150,)\n",
      "['setosa' 'versicolor' 'virginica']\n"
     ]
    },
    {
     "data": {
      "text/plain": [
       "array([0, 0, 0, 0, 0])"
      ]
     },
     "execution_count": 3,
     "metadata": {},
     "output_type": "execute_result"
    }
   ],
   "source": [
    "# OUT: Target, here: species\n",
    "print(iris.target.dtype)\n",
    "print(iris.target.shape)\n",
    "\n",
    "print(iris.target_names)\n",
    "iris.target[:5]"
   ]
  },
  {
   "cell_type": "markdown",
   "metadata": {},
   "source": [
    "# Task: Create a Decision Tree\n",
    "to be able to classify an unseen Iris by sepal/petal with into its species: 'setosa' 'versicolor' 'virginica'"
   ]
  },
  {
   "cell_type": "code",
   "execution_count": 4,
   "metadata": {},
   "outputs": [
    {
     "data": {
      "image/svg+xml": [
       "<?xml version=\"1.0\" encoding=\"UTF-8\" standalone=\"no\"?>\n",
       "<!DOCTYPE svg PUBLIC \"-//W3C//DTD SVG 1.1//EN\"\n",
       " \"http://www.w3.org/Graphics/SVG/1.1/DTD/svg11.dtd\">\n",
       "<!-- Generated by graphviz version 2.38.0 (20140413.2041)\n",
       " -->\n",
       "<!-- Title: Tree Pages: 1 -->\n",
       "<svg width=\"527pt\" height=\"373pt\"\n",
       " viewBox=\"0.00 0.00 527.00 373.00\" xmlns=\"http://www.w3.org/2000/svg\" xmlns:xlink=\"http://www.w3.org/1999/xlink\">\n",
       "<g id=\"graph0\" class=\"graph\" transform=\"scale(1 1) rotate(0) translate(4 369)\">\n",
       "<title>Tree</title>\n",
       "<polygon fill=\"white\" stroke=\"none\" points=\"-4,4 -4,-369 523,-369 523,4 -4,4\"/>\n",
       "<!-- 0 -->\n",
       "<g id=\"node1\" class=\"node\"><title>0</title>\n",
       "<polygon fill=\"none\" stroke=\"black\" points=\"258,-365 109,-365 109,-297 258,-297 258,-365\"/>\n",
       "<text text-anchor=\"middle\" x=\"183.5\" y=\"-349.8\" font-family=\"Times,serif\" font-size=\"14.00\">petal width (cm) &lt;= 0.8</text>\n",
       "<text text-anchor=\"middle\" x=\"183.5\" y=\"-334.8\" font-family=\"Times,serif\" font-size=\"14.00\">samples = 150</text>\n",
       "<text text-anchor=\"middle\" x=\"183.5\" y=\"-319.8\" font-family=\"Times,serif\" font-size=\"14.00\">value = [50, 50, 50]</text>\n",
       "<text text-anchor=\"middle\" x=\"183.5\" y=\"-304.8\" font-family=\"Times,serif\" font-size=\"14.00\">class = setosa</text>\n",
       "</g>\n",
       "<!-- 1 -->\n",
       "<g id=\"node2\" class=\"node\"><title>1</title>\n",
       "<polygon fill=\"#e58139\" stroke=\"black\" points=\"164,-253.5 51,-253.5 51,-200.5 164,-200.5 164,-253.5\"/>\n",
       "<text text-anchor=\"middle\" x=\"107.5\" y=\"-238.3\" font-family=\"Times,serif\" font-size=\"14.00\">samples = 50</text>\n",
       "<text text-anchor=\"middle\" x=\"107.5\" y=\"-223.3\" font-family=\"Times,serif\" font-size=\"14.00\">value = [50, 0, 0]</text>\n",
       "<text text-anchor=\"middle\" x=\"107.5\" y=\"-208.3\" font-family=\"Times,serif\" font-size=\"14.00\">class = setosa</text>\n",
       "</g>\n",
       "<!-- 0&#45;&gt;1 -->\n",
       "<g id=\"edge1\" class=\"edge\"><title>0&#45;&gt;1</title>\n",
       "<path fill=\"none\" stroke=\"black\" d=\"M158.825,-296.884C150.467,-285.666 141.123,-273.126 132.723,-261.852\"/>\n",
       "<polygon fill=\"black\" stroke=\"black\" points=\"135.296,-259.448 126.515,-253.52 129.683,-263.63 135.296,-259.448\"/>\n",
       "<text text-anchor=\"middle\" x=\"122.902\" y=\"-274.557\" font-family=\"Times,serif\" font-size=\"14.00\">True</text>\n",
       "</g>\n",
       "<!-- 2 -->\n",
       "<g id=\"node3\" class=\"node\"><title>2</title>\n",
       "<polygon fill=\"none\" stroke=\"black\" points=\"337,-261 182,-261 182,-193 337,-193 337,-261\"/>\n",
       "<text text-anchor=\"middle\" x=\"259.5\" y=\"-245.8\" font-family=\"Times,serif\" font-size=\"14.00\">petal width (cm) &lt;= 1.75</text>\n",
       "<text text-anchor=\"middle\" x=\"259.5\" y=\"-230.8\" font-family=\"Times,serif\" font-size=\"14.00\">samples = 100</text>\n",
       "<text text-anchor=\"middle\" x=\"259.5\" y=\"-215.8\" font-family=\"Times,serif\" font-size=\"14.00\">value = [0, 50, 50]</text>\n",
       "<text text-anchor=\"middle\" x=\"259.5\" y=\"-200.8\" font-family=\"Times,serif\" font-size=\"14.00\">class = versicolor</text>\n",
       "</g>\n",
       "<!-- 0&#45;&gt;2 -->\n",
       "<g id=\"edge2\" class=\"edge\"><title>0&#45;&gt;2</title>\n",
       "<path fill=\"none\" stroke=\"black\" d=\"M208.175,-296.884C214.679,-288.154 221.78,-278.625 228.568,-269.514\"/>\n",
       "<polygon fill=\"black\" stroke=\"black\" points=\"231.52,-271.409 234.689,-261.299 225.907,-267.227 231.52,-271.409\"/>\n",
       "<text text-anchor=\"middle\" x=\"238.302\" y=\"-282.337\" font-family=\"Times,serif\" font-size=\"14.00\">False</text>\n",
       "</g>\n",
       "<!-- 3 -->\n",
       "<g id=\"node4\" class=\"node\"><title>3</title>\n",
       "<polygon fill=\"#39e581\" fill-opacity=\"0.898039\" stroke=\"black\" points=\"250.5,-157 92.5,-157 92.5,-89 250.5,-89 250.5,-157\"/>\n",
       "<text text-anchor=\"middle\" x=\"171.5\" y=\"-141.8\" font-family=\"Times,serif\" font-size=\"14.00\">petal length (cm) &lt;= 4.95</text>\n",
       "<text text-anchor=\"middle\" x=\"171.5\" y=\"-126.8\" font-family=\"Times,serif\" font-size=\"14.00\">samples = 54</text>\n",
       "<text text-anchor=\"middle\" x=\"171.5\" y=\"-111.8\" font-family=\"Times,serif\" font-size=\"14.00\">value = [0, 49, 5]</text>\n",
       "<text text-anchor=\"middle\" x=\"171.5\" y=\"-96.8\" font-family=\"Times,serif\" font-size=\"14.00\">class = versicolor</text>\n",
       "</g>\n",
       "<!-- 2&#45;&gt;3 -->\n",
       "<g id=\"edge3\" class=\"edge\"><title>2&#45;&gt;3</title>\n",
       "<path fill=\"none\" stroke=\"black\" d=\"M230.929,-192.884C223.244,-183.976 214.84,-174.235 206.835,-164.957\"/>\n",
       "<polygon fill=\"black\" stroke=\"black\" points=\"209.411,-162.585 200.229,-157.299 204.111,-167.157 209.411,-162.585\"/>\n",
       "</g>\n",
       "<!-- 6 -->\n",
       "<g id=\"node7\" class=\"node\"><title>6</title>\n",
       "<polygon fill=\"#8139e5\" fill-opacity=\"0.976471\" stroke=\"black\" points=\"426.5,-157 268.5,-157 268.5,-89 426.5,-89 426.5,-157\"/>\n",
       "<text text-anchor=\"middle\" x=\"347.5\" y=\"-141.8\" font-family=\"Times,serif\" font-size=\"14.00\">petal length (cm) &lt;= 4.85</text>\n",
       "<text text-anchor=\"middle\" x=\"347.5\" y=\"-126.8\" font-family=\"Times,serif\" font-size=\"14.00\">samples = 46</text>\n",
       "<text text-anchor=\"middle\" x=\"347.5\" y=\"-111.8\" font-family=\"Times,serif\" font-size=\"14.00\">value = [0, 1, 45]</text>\n",
       "<text text-anchor=\"middle\" x=\"347.5\" y=\"-96.8\" font-family=\"Times,serif\" font-size=\"14.00\">class = virginica</text>\n",
       "</g>\n",
       "<!-- 2&#45;&gt;6 -->\n",
       "<g id=\"edge6\" class=\"edge\"><title>2&#45;&gt;6</title>\n",
       "<path fill=\"none\" stroke=\"black\" d=\"M288.071,-192.884C295.756,-183.976 304.16,-174.235 312.165,-164.957\"/>\n",
       "<polygon fill=\"black\" stroke=\"black\" points=\"314.889,-167.157 318.771,-157.299 309.589,-162.585 314.889,-167.157\"/>\n",
       "</g>\n",
       "<!-- 4 -->\n",
       "<g id=\"node5\" class=\"node\"><title>4</title>\n",
       "<polygon fill=\"#39e581\" fill-opacity=\"0.980392\" stroke=\"black\" points=\"113,-53 0,-53 0,-0 113,-0 113,-53\"/>\n",
       "<text text-anchor=\"middle\" x=\"56.5\" y=\"-37.8\" font-family=\"Times,serif\" font-size=\"14.00\">samples = 48</text>\n",
       "<text text-anchor=\"middle\" x=\"56.5\" y=\"-22.8\" font-family=\"Times,serif\" font-size=\"14.00\">value = [0, 47, 1]</text>\n",
       "<text text-anchor=\"middle\" x=\"56.5\" y=\"-7.8\" font-family=\"Times,serif\" font-size=\"14.00\">class = versicolor</text>\n",
       "</g>\n",
       "<!-- 3&#45;&gt;4 -->\n",
       "<g id=\"edge4\" class=\"edge\"><title>3&#45;&gt;4</title>\n",
       "<path fill=\"none\" stroke=\"black\" d=\"M131.279,-88.9485C119.701,-79.4346 107.093,-69.074 95.5848,-59.6175\"/>\n",
       "<polygon fill=\"black\" stroke=\"black\" points=\"97.768,-56.8814 87.8198,-53.2367 93.3238,-62.2897 97.768,-56.8814\"/>\n",
       "</g>\n",
       "<!-- 5 -->\n",
       "<g id=\"node6\" class=\"node\"><title>5</title>\n",
       "<polygon fill=\"#8139e5\" fill-opacity=\"0.498039\" stroke=\"black\" points=\"238,-53 131,-53 131,-0 238,-0 238,-53\"/>\n",
       "<text text-anchor=\"middle\" x=\"184.5\" y=\"-37.8\" font-family=\"Times,serif\" font-size=\"14.00\">samples = 6</text>\n",
       "<text text-anchor=\"middle\" x=\"184.5\" y=\"-22.8\" font-family=\"Times,serif\" font-size=\"14.00\">value = [0, 2, 4]</text>\n",
       "<text text-anchor=\"middle\" x=\"184.5\" y=\"-7.8\" font-family=\"Times,serif\" font-size=\"14.00\">class = virginica</text>\n",
       "</g>\n",
       "<!-- 3&#45;&gt;5 -->\n",
       "<g id=\"edge5\" class=\"edge\"><title>3&#45;&gt;5</title>\n",
       "<path fill=\"none\" stroke=\"black\" d=\"M176.047,-88.9485C177.192,-80.6238 178.426,-71.6509 179.589,-63.2027\"/>\n",
       "<polygon fill=\"black\" stroke=\"black\" points=\"183.064,-63.6204 180.96,-53.2367 176.129,-62.6664 183.064,-63.6204\"/>\n",
       "</g>\n",
       "<!-- 7 -->\n",
       "<g id=\"node8\" class=\"node\"><title>7</title>\n",
       "<polygon fill=\"#8139e5\" fill-opacity=\"0.498039\" stroke=\"black\" points=\"388,-53 281,-53 281,-0 388,-0 388,-53\"/>\n",
       "<text text-anchor=\"middle\" x=\"334.5\" y=\"-37.8\" font-family=\"Times,serif\" font-size=\"14.00\">samples = 3</text>\n",
       "<text text-anchor=\"middle\" x=\"334.5\" y=\"-22.8\" font-family=\"Times,serif\" font-size=\"14.00\">value = [0, 1, 2]</text>\n",
       "<text text-anchor=\"middle\" x=\"334.5\" y=\"-7.8\" font-family=\"Times,serif\" font-size=\"14.00\">class = virginica</text>\n",
       "</g>\n",
       "<!-- 6&#45;&gt;7 -->\n",
       "<g id=\"edge7\" class=\"edge\"><title>6&#45;&gt;7</title>\n",
       "<path fill=\"none\" stroke=\"black\" d=\"M342.953,-88.9485C341.808,-80.6238 340.574,-71.6509 339.411,-63.2027\"/>\n",
       "<polygon fill=\"black\" stroke=\"black\" points=\"342.871,-62.6664 338.04,-53.2367 335.936,-63.6204 342.871,-62.6664\"/>\n",
       "</g>\n",
       "<!-- 8 -->\n",
       "<g id=\"node9\" class=\"node\"><title>8</title>\n",
       "<polygon fill=\"#8139e5\" stroke=\"black\" points=\"519,-53 406,-53 406,-0 519,-0 519,-53\"/>\n",
       "<text text-anchor=\"middle\" x=\"462.5\" y=\"-37.8\" font-family=\"Times,serif\" font-size=\"14.00\">samples = 43</text>\n",
       "<text text-anchor=\"middle\" x=\"462.5\" y=\"-22.8\" font-family=\"Times,serif\" font-size=\"14.00\">value = [0, 0, 43]</text>\n",
       "<text text-anchor=\"middle\" x=\"462.5\" y=\"-7.8\" font-family=\"Times,serif\" font-size=\"14.00\">class = virginica</text>\n",
       "</g>\n",
       "<!-- 6&#45;&gt;8 -->\n",
       "<g id=\"edge8\" class=\"edge\"><title>6&#45;&gt;8</title>\n",
       "<path fill=\"none\" stroke=\"black\" d=\"M387.721,-88.9485C399.299,-79.4346 411.907,-69.074 423.415,-59.6175\"/>\n",
       "<polygon fill=\"black\" stroke=\"black\" points=\"425.676,-62.2897 431.18,-53.2367 421.232,-56.8814 425.676,-62.2897\"/>\n",
       "</g>\n",
       "</g>\n",
       "</svg>\n"
      ],
      "text/plain": [
       "<graphviz.files.Source at 0x7fe7e4e76080>"
      ]
     },
     "execution_count": 4,
     "metadata": {},
     "output_type": "execute_result"
    }
   ],
   "source": [
    "X = iris.data\n",
    "y = iris.target\n",
    "\n",
    "# TODO: Try with and without max_depth (setting also avoids overfitting)\n",
    "# clf = DecisionTreeClassifier().fit(X, y)\n",
    "clf = DecisionTreeClassifier(max_depth = 3).fit(X, y)\n",
    "plot_decision_tree(clf, iris.feature_names, iris.target_names)"
   ]
  },
  {
   "cell_type": "markdown",
   "metadata": {},
   "source": [
    "# Wait, how do I know that the Decision Tree works???\n",
    "\n",
    "A: Split your data into test and train and evaluate with the test data."
   ]
  },
  {
   "cell_type": "code",
   "execution_count": 5,
   "metadata": {
    "collapsed": true
   },
   "outputs": [],
   "source": [
    "X_train, X_test, y_train, y_test = train_test_split(iris.data, iris.target, random_state = 3)\n",
    "\n",
    "# Train the classifier only with the trainings data\n",
    "clf = DecisionTreeClassifier().fit(X_train, y_train)"
   ]
  },
  {
   "cell_type": "code",
   "execution_count": 6,
   "metadata": {},
   "outputs": [
    {
     "name": "stdout",
     "output_type": "stream",
     "text": [
      " ------ Predicted \n",
      " Actual \n"
     ]
    },
    {
     "data": {
      "text/plain": [
       "array([[15,  0,  0],\n",
       "       [ 0, 11,  1],\n",
       "       [ 0,  0, 11]])"
      ]
     },
     "execution_count": 6,
     "metadata": {},
     "output_type": "execute_result"
    }
   ],
   "source": [
    "# predict for the test data and compare with the actual outcome\n",
    "y_pred = clf.predict(X_test)\n",
    "\n",
    "from sklearn.metrics import confusion_matrix\n",
    "\n",
    "print(\" ------ Predicted \")\n",
    "print(\" Actual \")\n",
    "confusion_matrix(y_test, y_pred)"
   ]
  },
  {
   "cell_type": "code",
   "execution_count": 7,
   "metadata": {},
   "outputs": [
    {
     "name": "stdout",
     "output_type": "stream",
     "text": [
      "Accuracy of Decision Tree classifier on test set == sum(TP)/sum(): 0.9736842105263158\n",
      "Accuracy of Decision Tree classifier on test set with \"score\"-function: 0.97\n"
     ]
    }
   ],
   "source": [
    "print('Accuracy of Decision Tree classifier on test set == sum(TP)/sum(): {}'.format((15+11+11)/(15+11+11+1)))\n",
    "print('Accuracy of Decision Tree classifier on test set with \"score\"-function: {:.2f}'\n",
    "     .format(clf.score(X_test, y_test)))"
   ]
  },
  {
   "cell_type": "markdown",
   "metadata": {},
   "source": [
    "## Feature importance\n",
    "TODO: Compare with level in Tree"
   ]
  },
  {
   "cell_type": "code",
   "execution_count": 8,
   "metadata": {},
   "outputs": [
    {
     "data": {
      "image/png": "[encoded data removed]",
      "text/plain": [
       "<matplotlib.figure.Figure at 0x7fe7e4e768d0>"
      ]
     },
     "metadata": {},
     "output_type": "display_data"
    },
    {
     "name": "stdout",
     "output_type": "stream",
     "text": [
      "Feature names      : ['sepal length (cm)', 'sepal width (cm)', 'petal length (cm)', 'petal width (cm)']\n",
      "Feature importances: [ 0.          0.02457904  0.06251049  0.91291047]\n"
     ]
    }
   ],
   "source": [
    "plt.figure(figsize=(10,4), dpi=80)\n",
    "plot_feature_importances(clf, iris.feature_names)\n",
    "plt.show()\n",
    "\n",
    "print('Feature names      : {}'.format(iris.feature_names))\n",
    "print('Feature importances: {}'.format(clf.feature_importances_))"
   ]
  }
 ],
 "metadata": {
  "anaconda-cloud": {},
  "kernelspec": {
   "display_name": "Python 3",
   "language": "python",
   "name": "python3"
  },
  "language_info": {
   "codemirror_mode": {
    "name": "ipython",
    "version": 3
   },
   "file_extension": ".py",
   "mimetype": "text/x-python",
   "name": "python",
   "nbconvert_exporter": "python",
   "pygments_lexer": "ipython3",
   "version": "3.6.1"
  }
 },
 "nbformat": 4,
 "nbformat_minor": 2
}
