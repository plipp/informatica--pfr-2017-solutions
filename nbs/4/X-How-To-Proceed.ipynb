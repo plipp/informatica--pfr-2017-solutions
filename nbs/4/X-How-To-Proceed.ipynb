{
 "cells": [
  {
   "cell_type": "markdown",
   "metadata": {},
   "source": [
    "# What else?"
   ]
  },
  {
   "cell_type": "markdown",
   "metadata": {},
   "source": [
    "- Evaluation Technics like cross validation\n",
    "- hyper-parameter tuning\n",
    "...\n",
    "- Regression\n",
    "...\n",
    "- Unsupervised Methods\n",
    "    - Clustering\n",
    "...\n",
    "\n",
    "### Recommended Learnings\n",
    "\n",
    "- [Machine Learning (**the** ML course)](https://www.coursera.org/learn/machine-learning)\n",
    "- [Applied Data Science with Python Specialization](https://www.coursera.org/specializations/data-science-python)"
   ]
  }
 ],
 "metadata": {
  "kernelspec": {
   "display_name": "Python 3",
   "language": "python",
   "name": "python3"
  },
  "language_info": {
   "codemirror_mode": {
    "name": "ipython",
    "version": 3
   },
   "file_extension": ".py",
   "mimetype": "text/x-python",
   "name": "python",
   "nbconvert_exporter": "python",
   "pygments_lexer": "ipython3",
   "version": "3.6.1"
  }
 },
 "nbformat": 4,
 "nbformat_minor": 2
}
