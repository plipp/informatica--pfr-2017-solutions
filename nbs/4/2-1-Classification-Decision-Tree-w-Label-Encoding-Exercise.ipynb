{
 "cells": [
  {
   "cell_type": "markdown",
   "metadata": {},
   "source": [
    "# Predicting Earnings from Census Data with Decision Tree\n",
    "taken from [The Analytics Edge](https://www.edx.org/course/analytics-edge-mitx-15-071x-3)"
   ]
  },
  {
   "cell_type": "markdown",
   "metadata": {},
   "source": [
    "# The Task\n",
    "\n",
    "The United States government periodically collects demographic information by conducting a census.\n",
    "\n",
    "In this problem, we are going to use census information about an individual to predict how much a person earns -- in particular, whether the person earns more than $50,000 per year. This data comes from the UCI Machine Learning Repository.\n",
    "\n",
    "The file `census.csv` contains 1994 census data for 31,978 individuals in the United States.\n",
    "\n",
    "The dataset includes the following 13 variables:\n",
    "\n",
    "- age = the age of the individual in years\n",
    "- workclass = the classification of the individual's working status (does the person work for the federal government, work for the local government, work without pay, and so on)\n",
    "-  education = the level of education of the individual (e.g., 5th-6th grade, high school graduate, PhD, so on)\n",
    "- maritalstatus = the marital status of the individual\n",
    "- occupation = the type of work the individual does (e.g., administrative/clerical work, farming/fishing, sales and so on)\n",
    "- relationship = relationship of individual to his/her household\n",
    "- race = the individual's race\n",
    "- sex = the individual's sex\n",
    "- capitalgain = the capital gains of the individual in 1994 (from selling an asset such as a stock or bond for more than the original purchase price)\n",
    "- capitalloss = the capital losses of the individual in 1994 (from selling an asset such as a stock or bond for less than the original purchase price)\n",
    "- hoursperweek = the number of hours the individual works per week\n",
    "- nativecountry = the native country of the individual\n",
    "- over50k = whether or not the individual earned more than $50,000 in 1994\n",
    "\n",
    "**Predict whether an individual's earnings are above $50,000 (the variable \"over50k\") using all of the other variables as independent variables.**"
   ]
  },
  {
   "cell_type": "code",
   "execution_count": 53,
   "metadata": {
    "collapsed": true
   },
   "outputs": [],
   "source": [
    "import pandas as pd\n",
    "import numpy as np"
   ]
  },
  {
   "cell_type": "markdown",
   "metadata": {},
   "source": [
    "# Exercise 1\n",
    "\n",
    "1. Read the dataset `census-2.csv`.\n",
    "2. find out the name and the type of the single colums"
   ]
  },
  {
   "cell_type": "code",
   "execution_count": 54,
   "metadata": {},
   "outputs": [
    {
     "data": {
      "text/html": [
       "<div>\n",
       "<style>\n",
       "    .dataframe thead tr:only-child th {\n",
       "        text-align: right;\n",
       "    }\n",
       "\n",
       "    .dataframe thead th {\n",
       "        text-align: left;\n",
       "    }\n",
       "\n",
       "    .dataframe tbody tr th {\n",
       "        vertical-align: top;\n",
       "    }\n",
       "</style>\n",
       "<table border=\"1\" class=\"dataframe\">\n",
       "  <thead>\n",
       "    <tr style=\"text-align: right;\">\n",
       "      <th></th>\n",
       "      <th>age</th>\n",
       "      <th>workclass</th>\n",
       "      <th>education</th>\n",
       "      <th>maritalstatus</th>\n",
       "      <th>occupation</th>\n",
       "      <th>relationship</th>\n",
       "      <th>race</th>\n",
       "      <th>sex</th>\n",
       "      <th>capitalgain</th>\n",
       "      <th>capitalloss</th>\n",
       "      <th>hoursperweek</th>\n",
       "      <th>nativecountry</th>\n",
       "      <th>over50k</th>\n",
       "    </tr>\n",
       "  </thead>\n",
       "  <tbody>\n",
       "    <tr>\n",
       "      <th>0</th>\n",
       "      <td>39</td>\n",
       "      <td>State-gov</td>\n",
       "      <td>Bachelors</td>\n",
       "      <td>Never-married</td>\n",
       "      <td>Adm-clerical</td>\n",
       "      <td>Not-in-family</td>\n",
       "      <td>White</td>\n",
       "      <td>Male</td>\n",
       "      <td>2174</td>\n",
       "      <td>0</td>\n",
       "      <td>40</td>\n",
       "      <td>United-States</td>\n",
       "      <td>&lt;=50K</td>\n",
       "    </tr>\n",
       "    <tr>\n",
       "      <th>1</th>\n",
       "      <td>50</td>\n",
       "      <td>Self-emp-not-inc</td>\n",
       "      <td>Bachelors</td>\n",
       "      <td>Married-civ-spouse</td>\n",
       "      <td>Exec-managerial</td>\n",
       "      <td>Husband</td>\n",
       "      <td>White</td>\n",
       "      <td>Male</td>\n",
       "      <td>0</td>\n",
       "      <td>0</td>\n",
       "      <td>13</td>\n",
       "      <td>United-States</td>\n",
       "      <td>&lt;=50K</td>\n",
       "    </tr>\n",
       "    <tr>\n",
       "      <th>2</th>\n",
       "      <td>38</td>\n",
       "      <td>Private</td>\n",
       "      <td>HS-grad</td>\n",
       "      <td>Divorced</td>\n",
       "      <td>Handlers-cleaners</td>\n",
       "      <td>Not-in-family</td>\n",
       "      <td>White</td>\n",
       "      <td>Male</td>\n",
       "      <td>0</td>\n",
       "      <td>0</td>\n",
       "      <td>40</td>\n",
       "      <td>United-States</td>\n",
       "      <td>&lt;=50K</td>\n",
       "    </tr>\n",
       "    <tr>\n",
       "      <th>3</th>\n",
       "      <td>53</td>\n",
       "      <td>Private</td>\n",
       "      <td>11th</td>\n",
       "      <td>Married-civ-spouse</td>\n",
       "      <td>Handlers-cleaners</td>\n",
       "      <td>Husband</td>\n",
       "      <td>Black</td>\n",
       "      <td>Male</td>\n",
       "      <td>0</td>\n",
       "      <td>0</td>\n",
       "      <td>40</td>\n",
       "      <td>United-States</td>\n",
       "      <td>&lt;=50K</td>\n",
       "    </tr>\n",
       "    <tr>\n",
       "      <th>4</th>\n",
       "      <td>28</td>\n",
       "      <td>Private</td>\n",
       "      <td>Bachelors</td>\n",
       "      <td>Married-civ-spouse</td>\n",
       "      <td>Prof-specialty</td>\n",
       "      <td>Wife</td>\n",
       "      <td>Black</td>\n",
       "      <td>Female</td>\n",
       "      <td>0</td>\n",
       "      <td>0</td>\n",
       "      <td>40</td>\n",
       "      <td>Cuba</td>\n",
       "      <td>&lt;=50K</td>\n",
       "    </tr>\n",
       "  </tbody>\n",
       "</table>\n",
       "</div>"
      ],
      "text/plain": [
       "   age          workclass   education        maritalstatus  \\\n",
       "0   39          State-gov   Bachelors        Never-married   \n",
       "1   50   Self-emp-not-inc   Bachelors   Married-civ-spouse   \n",
       "2   38            Private     HS-grad             Divorced   \n",
       "3   53            Private        11th   Married-civ-spouse   \n",
       "4   28            Private   Bachelors   Married-civ-spouse   \n",
       "\n",
       "           occupation    relationship    race      sex  capitalgain  \\\n",
       "0        Adm-clerical   Not-in-family   White     Male         2174   \n",
       "1     Exec-managerial         Husband   White     Male            0   \n",
       "2   Handlers-cleaners   Not-in-family   White     Male            0   \n",
       "3   Handlers-cleaners         Husband   Black     Male            0   \n",
       "4      Prof-specialty            Wife   Black   Female            0   \n",
       "\n",
       "   capitalloss  hoursperweek   nativecountry over50k  \n",
       "0            0            40   United-States   <=50K  \n",
       "1            0            13   United-States   <=50K  \n",
       "2            0            40   United-States   <=50K  \n",
       "3            0            40   United-States   <=50K  \n",
       "4            0            40            Cuba   <=50K  "
      ]
     },
     "execution_count": 54,
     "metadata": {},
     "output_type": "execute_result"
    }
   ],
   "source": [
    "census = pd.read_csv('../../data/census-2.csv')\n",
    "census.head()"
   ]
  },
  {
   "cell_type": "code",
   "execution_count": 55,
   "metadata": {},
   "outputs": [
    {
     "data": {
      "text/plain": [
       "Index(['age', 'workclass', 'education', 'maritalstatus', 'occupation',\n",
       "       'relationship', 'race', 'sex', 'capitalgain', 'capitalloss',\n",
       "       'hoursperweek', 'nativecountry', 'over50k'],\n",
       "      dtype='object')"
      ]
     },
     "execution_count": 55,
     "metadata": {},
     "output_type": "execute_result"
    }
   ],
   "source": [
    "census.columns"
   ]
  },
  {
   "cell_type": "code",
   "execution_count": 56,
   "metadata": {},
   "outputs": [
    {
     "name": "stdout",
     "output_type": "stream",
     "text": [
      "<class 'pandas.core.frame.DataFrame'>\n",
      "RangeIndex: 31978 entries, 0 to 31977\n",
      "Data columns (total 13 columns):\n",
      "age              31978 non-null int64\n",
      "workclass        31978 non-null object\n",
      "education        31978 non-null object\n",
      "maritalstatus    31978 non-null object\n",
      "occupation       31978 non-null object\n",
      "relationship     31978 non-null object\n",
      "race             31978 non-null object\n",
      "sex              31978 non-null object\n",
      "capitalgain      31978 non-null int64\n",
      "capitalloss      31978 non-null int64\n",
      "hoursperweek     31978 non-null int64\n",
      "nativecountry    31978 non-null object\n",
      "over50k          31978 non-null object\n",
      "dtypes: int64(4), object(9)\n",
      "memory usage: 3.2+ MB\n"
     ]
    }
   ],
   "source": [
    "census.info()"
   ]
  },
  {
   "cell_type": "markdown",
   "metadata": {},
   "source": [
    "# Exercise 2\n",
    "sklearn classification can only work with numeric values. Therefore we first have to convert all not-numeric values to numeric values.\n",
    "\n",
    "1. copy the dataframe\n",
    "2. in the copy: convert the target column `over50k` to a boolean\n",
    "3. in the copy: convert the not-numeric independent variables (aka features, aka predictors) via `sklearn.LabelEncoder`.\n",
    "\n",
    "See http://pbpython.com/categorical-encoding.html how to use the `sklearn.LabelEncoder` and for further alternatives to convert not-numeric values to numeric values."
   ]
  },
  {
   "cell_type": "code",
   "execution_count": 57,
   "metadata": {
    "collapsed": true
   },
   "outputs": [],
   "source": [
    "census2 = census.copy()"
   ]
  },
  {
   "cell_type": "code",
   "execution_count": 58,
   "metadata": {},
   "outputs": [
    {
     "name": "stdout",
     "output_type": "stream",
     "text": [
      "[' <=50K' ' >50K']\n",
      "24.06% over 50k\n"
     ]
    }
   ],
   "source": [
    "print(census.over50k.unique())\n",
    "census2.over50k = census2.over50k==' >50K'\n",
    "print(\"{0:.2f}% over 50k\".format(100*np.mean(census2.over50k)))"
   ]
  },
  {
   "cell_type": "code",
   "execution_count": 59,
   "metadata": {},
   "outputs": [],
   "source": [
    "not_numeric_columns = ['workclass', 'education', 'maritalstatus', 'occupation',\n",
    "       'relationship', 'race', 'sex', 'nativecountry']"
   ]
  },
  {
   "cell_type": "code",
   "execution_count": 60,
   "metadata": {},
   "outputs": [
    {
     "data": {
      "text/html": [
       "<div>\n",
       "<style>\n",
       "    .dataframe thead tr:only-child th {\n",
       "        text-align: right;\n",
       "    }\n",
       "\n",
       "    .dataframe thead th {\n",
       "        text-align: left;\n",
       "    }\n",
       "\n",
       "    .dataframe tbody tr th {\n",
       "        vertical-align: top;\n",
       "    }\n",
       "</style>\n",
       "<table border=\"1\" class=\"dataframe\">\n",
       "  <thead>\n",
       "    <tr style=\"text-align: right;\">\n",
       "      <th></th>\n",
       "      <th>age</th>\n",
       "      <th>workclass</th>\n",
       "      <th>education</th>\n",
       "      <th>maritalstatus</th>\n",
       "      <th>occupation</th>\n",
       "      <th>relationship</th>\n",
       "      <th>race</th>\n",
       "      <th>sex</th>\n",
       "      <th>capitalgain</th>\n",
       "      <th>capitalloss</th>\n",
       "      <th>hoursperweek</th>\n",
       "      <th>nativecountry</th>\n",
       "      <th>over50k</th>\n",
       "    </tr>\n",
       "  </thead>\n",
       "  <tbody>\n",
       "    <tr>\n",
       "      <th>0</th>\n",
       "      <td>39</td>\n",
       "      <td>7</td>\n",
       "      <td>9</td>\n",
       "      <td>4</td>\n",
       "      <td>1</td>\n",
       "      <td>1</td>\n",
       "      <td>4</td>\n",
       "      <td>1</td>\n",
       "      <td>2174</td>\n",
       "      <td>0</td>\n",
       "      <td>40</td>\n",
       "      <td>38</td>\n",
       "      <td>False</td>\n",
       "    </tr>\n",
       "    <tr>\n",
       "      <th>1</th>\n",
       "      <td>50</td>\n",
       "      <td>6</td>\n",
       "      <td>9</td>\n",
       "      <td>2</td>\n",
       "      <td>4</td>\n",
       "      <td>0</td>\n",
       "      <td>4</td>\n",
       "      <td>1</td>\n",
       "      <td>0</td>\n",
       "      <td>0</td>\n",
       "      <td>13</td>\n",
       "      <td>38</td>\n",
       "      <td>False</td>\n",
       "    </tr>\n",
       "    <tr>\n",
       "      <th>2</th>\n",
       "      <td>38</td>\n",
       "      <td>4</td>\n",
       "      <td>11</td>\n",
       "      <td>0</td>\n",
       "      <td>6</td>\n",
       "      <td>1</td>\n",
       "      <td>4</td>\n",
       "      <td>1</td>\n",
       "      <td>0</td>\n",
       "      <td>0</td>\n",
       "      <td>40</td>\n",
       "      <td>38</td>\n",
       "      <td>False</td>\n",
       "    </tr>\n",
       "    <tr>\n",
       "      <th>3</th>\n",
       "      <td>53</td>\n",
       "      <td>4</td>\n",
       "      <td>1</td>\n",
       "      <td>2</td>\n",
       "      <td>6</td>\n",
       "      <td>0</td>\n",
       "      <td>2</td>\n",
       "      <td>1</td>\n",
       "      <td>0</td>\n",
       "      <td>0</td>\n",
       "      <td>40</td>\n",
       "      <td>38</td>\n",
       "      <td>False</td>\n",
       "    </tr>\n",
       "    <tr>\n",
       "      <th>4</th>\n",
       "      <td>28</td>\n",
       "      <td>4</td>\n",
       "      <td>9</td>\n",
       "      <td>2</td>\n",
       "      <td>10</td>\n",
       "      <td>5</td>\n",
       "      <td>2</td>\n",
       "      <td>0</td>\n",
       "      <td>0</td>\n",
       "      <td>0</td>\n",
       "      <td>40</td>\n",
       "      <td>4</td>\n",
       "      <td>False</td>\n",
       "    </tr>\n",
       "  </tbody>\n",
       "</table>\n",
       "</div>"
      ],
      "text/plain": [
       "   age  workclass  education  maritalstatus  occupation  relationship  race  \\\n",
       "0   39          7          9              4           1             1     4   \n",
       "1   50          6          9              2           4             0     4   \n",
       "2   38          4         11              0           6             1     4   \n",
       "3   53          4          1              2           6             0     2   \n",
       "4   28          4          9              2          10             5     2   \n",
       "\n",
       "   sex  capitalgain  capitalloss  hoursperweek  nativecountry  over50k  \n",
       "0    1         2174            0            40             38    False  \n",
       "1    1            0            0            13             38    False  \n",
       "2    1            0            0            40             38    False  \n",
       "3    1            0            0            40             38    False  \n",
       "4    0            0            0            40              4    False  "
      ]
     },
     "execution_count": 60,
     "metadata": {},
     "output_type": "execute_result"
    }
   ],
   "source": [
    "from sklearn.preprocessing import LabelEncoder\n",
    "\n",
    "for col in not_numeric_columns:\n",
    "    le = LabelEncoder()\n",
    "    census2[col] = le.fit_transform(census2[col])\n",
    "    \n",
    "census2.head()"
   ]
  },
  {
   "cell_type": "markdown",
   "metadata": {},
   "source": [
    "# Exercise 3\n",
    "Separate target variable `over50k` from the independent variables (all others): \n",
    "`over50k -> y, all others -> X`"
   ]
  },
  {
   "cell_type": "code",
   "execution_count": 61,
   "metadata": {},
   "outputs": [
    {
     "data": {
      "text/plain": [
       "((31978, 13), (31978, 12), (31978,))"
      ]
     },
     "execution_count": 61,
     "metadata": {},
     "output_type": "execute_result"
    }
   ],
   "source": [
    "X = census2.drop(['over50k'], axis=1)\n",
    "y = census2['over50k']\n",
    "census2.shape, X.shape, y.shape"
   ]
  },
  {
   "cell_type": "markdown",
   "metadata": {},
   "source": [
    "# Exercise 4\n",
    "Then, split the data randomly into a training set and a testing set, setting the `random_state` to 2000 before creating the split. Split the data so that the training set contains 60% of the observations, while the testing set contains 40% of the observations."
   ]
  },
  {
   "cell_type": "code",
   "execution_count": 62,
   "metadata": {
    "collapsed": true
   },
   "outputs": [],
   "source": [
    "from sklearn.model_selection import train_test_split"
   ]
  },
  {
   "cell_type": "code",
   "execution_count": 63,
   "metadata": {
    "collapsed": true
   },
   "outputs": [],
   "source": [
    "X_train, X_test, y_train, y_test = train_test_split(X, y, test_size=0.4, random_state=2000)"
   ]
  },
  {
   "cell_type": "code",
   "execution_count": 64,
   "metadata": {},
   "outputs": [
    {
     "data": {
      "text/plain": [
       "((19186, 12), (12792, 12), (19186,), (12792,))"
      ]
     },
     "execution_count": 64,
     "metadata": {},
     "output_type": "execute_result"
    }
   ],
   "source": [
    "X_train.shape, X_test.shape, y_train.shape, y_test.shape"
   ]
  },
  {
   "cell_type": "markdown",
   "metadata": {},
   "source": [
    "# Exercise 5\n",
    "Let us now build a classification tree to predict \"over50k\". Use the training set to build the model, and all of the other variables as independent variables. Use `max_depth=3` and the default parameters else."
   ]
  },
  {
   "cell_type": "code",
   "execution_count": 65,
   "metadata": {
    "collapsed": true
   },
   "outputs": [],
   "source": [
    "from sklearn.tree import DecisionTreeClassifier\n",
    "\n",
    "clf = DecisionTreeClassifier(max_depth=3).fit(X_train, y_train)"
   ]
  },
  {
   "cell_type": "markdown",
   "metadata": {
    "collapsed": true
   },
   "source": [
    "# Exercise 6\n",
    "\n",
    "Plot the decision tree using `plotting_utilities.plot_decision_tree`\n",
    "- Which are the most important feature? (Root of the Tree)\n",
    "- Which is the next important feature? (2nd Level)"
   ]
  },
  {
   "cell_type": "code",
   "execution_count": 66,
   "metadata": {
    "collapsed": true
   },
   "outputs": [],
   "source": [
    "from plotting_utilities import plot_decision_tree, plot_feature_importances\n",
    "import matplotlib.pyplot as plt\n",
    "\n",
    "%matplotlib inline"
   ]
  },
  {
   "cell_type": "code",
   "execution_count": 67,
   "metadata": {},
   "outputs": [
    {
     "data": {
      "image/svg+xml": [
       "<?xml version=\"1.0\" encoding=\"UTF-8\" standalone=\"no\"?>\n",
       "<!DOCTYPE svg PUBLIC \"-//W3C//DTD SVG 1.1//EN\"\n",
       " \"http://www.w3.org/Graphics/SVG/1.1/DTD/svg11.dtd\">\n",
       "<!-- Generated by graphviz version 2.38.0 (20140413.2041)\n",
       " -->\n",
       "<!-- Title: Tree Pages: 1 -->\n",
       "<svg width=\"1025pt\" height=\"373pt\"\n",
       " viewBox=\"0.00 0.00 1024.50 373.00\" xmlns=\"http://www.w3.org/2000/svg\" xmlns:xlink=\"http://www.w3.org/1999/xlink\">\n",
       "<g id=\"graph0\" class=\"graph\" transform=\"scale(1 1) rotate(0) translate(4 369)\">\n",
       "<title>Tree</title>\n",
       "<polygon fill=\"white\" stroke=\"none\" points=\"-4,4 -4,-369 1020.5,-369 1020.5,4 -4,4\"/>\n",
       "<!-- 0 -->\n",
       "<g id=\"node1\" class=\"node\"><title>0</title>\n",
       "<polygon fill=\"#e58139\" fill-opacity=\"0.678431\" stroke=\"black\" points=\"574.5,-365 435.5,-365 435.5,-297 574.5,-297 574.5,-365\"/>\n",
       "<text text-anchor=\"middle\" x=\"505\" y=\"-349.8\" font-family=\"Times,serif\" font-size=\"14.00\">relationship &lt;= 0.5</text>\n",
       "<text text-anchor=\"middle\" x=\"505\" y=\"-334.8\" font-family=\"Times,serif\" font-size=\"14.00\">samples = 19186</text>\n",
       "<text text-anchor=\"middle\" x=\"505\" y=\"-319.8\" font-family=\"Times,serif\" font-size=\"14.00\">value = [14537, 4649]</text>\n",
       "<text text-anchor=\"middle\" x=\"505\" y=\"-304.8\" font-family=\"Times,serif\" font-size=\"14.00\">class = o</text>\n",
       "</g>\n",
       "<!-- 1 -->\n",
       "<g id=\"node2\" class=\"node\"><title>1</title>\n",
       "<polygon fill=\"#e58139\" fill-opacity=\"0.168627\" stroke=\"black\" points=\"448.5,-261 311.5,-261 311.5,-193 448.5,-193 448.5,-261\"/>\n",
       "<text text-anchor=\"middle\" x=\"380\" y=\"-245.8\" font-family=\"Times,serif\" font-size=\"14.00\">capitalgain &lt;= 5095.5</text>\n",
       "<text text-anchor=\"middle\" x=\"380\" y=\"-230.8\" font-family=\"Times,serif\" font-size=\"14.00\">samples = 7751</text>\n",
       "<text text-anchor=\"middle\" x=\"380\" y=\"-215.8\" font-family=\"Times,serif\" font-size=\"14.00\">value = [4230, 3521]</text>\n",
       "<text text-anchor=\"middle\" x=\"380\" y=\"-200.8\" font-family=\"Times,serif\" font-size=\"14.00\">class = o</text>\n",
       "</g>\n",
       "<!-- 0&#45;&gt;1 -->\n",
       "<g id=\"edge1\" class=\"edge\"><title>0&#45;&gt;1</title>\n",
       "<path fill=\"none\" stroke=\"black\" d=\"M464.416,-296.884C453.064,-287.62 440.606,-277.455 428.83,-267.845\"/>\n",
       "<polygon fill=\"black\" stroke=\"black\" points=\"430.769,-264.91 420.808,-261.299 426.343,-270.333 430.769,-264.91\"/>\n",
       "<text text-anchor=\"middle\" x=\"423.328\" y=\"-282.472\" font-family=\"Times,serif\" font-size=\"14.00\">True</text>\n",
       "</g>\n",
       "<!-- 8 -->\n",
       "<g id=\"node9\" class=\"node\"><title>8</title>\n",
       "<polygon fill=\"#e58139\" fill-opacity=\"0.890196\" stroke=\"black\" points=\"715.5,-261 576.5,-261 576.5,-193 715.5,-193 715.5,-261\"/>\n",
       "<text text-anchor=\"middle\" x=\"646\" y=\"-245.8\" font-family=\"Times,serif\" font-size=\"14.00\">capitalgain &lt;= 7073.5</text>\n",
       "<text text-anchor=\"middle\" x=\"646\" y=\"-230.8\" font-family=\"Times,serif\" font-size=\"14.00\">samples = 11435</text>\n",
       "<text text-anchor=\"middle\" x=\"646\" y=\"-215.8\" font-family=\"Times,serif\" font-size=\"14.00\">value = [10307, 1128]</text>\n",
       "<text text-anchor=\"middle\" x=\"646\" y=\"-200.8\" font-family=\"Times,serif\" font-size=\"14.00\">class = o</text>\n",
       "</g>\n",
       "<!-- 0&#45;&gt;8 -->\n",
       "<g id=\"edge8\" class=\"edge\"><title>0&#45;&gt;8</title>\n",
       "<path fill=\"none\" stroke=\"black\" d=\"M550.779,-296.884C563.831,-287.442 578.177,-277.064 591.685,-267.292\"/>\n",
       "<polygon fill=\"black\" stroke=\"black\" points=\"593.918,-269.996 599.969,-261.299 589.815,-264.325 593.918,-269.996\"/>\n",
       "<text text-anchor=\"middle\" x=\"596.007\" y=\"-282.283\" font-family=\"Times,serif\" font-size=\"14.00\">False</text>\n",
       "</g>\n",
       "<!-- 2 -->\n",
       "<g id=\"node3\" class=\"node\"><title>2</title>\n",
       "<polygon fill=\"#e58139\" fill-opacity=\"0.313725\" stroke=\"black\" points=\"262,-157 130,-157 130,-89 262,-89 262,-157\"/>\n",
       "<text text-anchor=\"middle\" x=\"196\" y=\"-141.8\" font-family=\"Times,serif\" font-size=\"14.00\">education &lt;= 6.5</text>\n",
       "<text text-anchor=\"middle\" x=\"196\" y=\"-126.8\" font-family=\"Times,serif\" font-size=\"14.00\">samples = 7124</text>\n",
       "<text text-anchor=\"middle\" x=\"196\" y=\"-111.8\" font-family=\"Times,serif\" font-size=\"14.00\">value = [4222, 2902]</text>\n",
       "<text text-anchor=\"middle\" x=\"196\" y=\"-96.8\" font-family=\"Times,serif\" font-size=\"14.00\">class = o</text>\n",
       "</g>\n",
       "<!-- 1&#45;&gt;2 -->\n",
       "<g id=\"edge2\" class=\"edge\"><title>1&#45;&gt;2</title>\n",
       "<path fill=\"none\" stroke=\"black\" d=\"M320.26,-192.884C302.495,-183.035 282.893,-172.169 264.61,-162.034\"/>\n",
       "<polygon fill=\"black\" stroke=\"black\" points=\"266.197,-158.912 255.754,-157.125 262.804,-165.034 266.197,-158.912\"/>\n",
       "</g>\n",
       "<!-- 5 -->\n",
       "<g id=\"node6\" class=\"node\"><title>5</title>\n",
       "<polygon fill=\"#399de5\" fill-opacity=\"0.988235\" stroke=\"black\" points=\"432.5,-157 327.5,-157 327.5,-89 432.5,-89 432.5,-157\"/>\n",
       "<text text-anchor=\"middle\" x=\"380\" y=\"-141.8\" font-family=\"Times,serif\" font-size=\"14.00\">age &lt;= 69.5</text>\n",
       "<text text-anchor=\"middle\" x=\"380\" y=\"-126.8\" font-family=\"Times,serif\" font-size=\"14.00\">samples = 627</text>\n",
       "<text text-anchor=\"middle\" x=\"380\" y=\"-111.8\" font-family=\"Times,serif\" font-size=\"14.00\">value = [8, 619]</text>\n",
       "<text text-anchor=\"middle\" x=\"380\" y=\"-96.8\" font-family=\"Times,serif\" font-size=\"14.00\">class = v</text>\n",
       "</g>\n",
       "<!-- 1&#45;&gt;5 -->\n",
       "<g id=\"edge5\" class=\"edge\"><title>1&#45;&gt;5</title>\n",
       "<path fill=\"none\" stroke=\"black\" d=\"M380,-192.884C380,-184.778 380,-175.982 380,-167.472\"/>\n",
       "<polygon fill=\"black\" stroke=\"black\" points=\"383.5,-167.299 380,-157.299 376.5,-167.299 383.5,-167.299\"/>\n",
       "</g>\n",
       "<!-- 3 -->\n",
       "<g id=\"node4\" class=\"node\"><title>3</title>\n",
       "<polygon fill=\"#e58139\" fill-opacity=\"0.886275\" stroke=\"black\" points=\"112,-53 0,-53 0,-0 112,-0 112,-53\"/>\n",
       "<text text-anchor=\"middle\" x=\"56\" y=\"-37.8\" font-family=\"Times,serif\" font-size=\"14.00\">samples = 821</text>\n",
       "<text text-anchor=\"middle\" x=\"56\" y=\"-22.8\" font-family=\"Times,serif\" font-size=\"14.00\">value = [736, 85]</text>\n",
       "<text text-anchor=\"middle\" x=\"56\" y=\"-7.8\" font-family=\"Times,serif\" font-size=\"14.00\">class = o</text>\n",
       "</g>\n",
       "<!-- 2&#45;&gt;3 -->\n",
       "<g id=\"edge3\" class=\"edge\"><title>2&#45;&gt;3</title>\n",
       "<path fill=\"none\" stroke=\"black\" d=\"M147.035,-88.9485C132.669,-79.2516 117,-68.6752 102.775,-59.073\"/>\n",
       "<polygon fill=\"black\" stroke=\"black\" points=\"104.375,-55.9305 94.1285,-53.2367 100.459,-61.7325 104.375,-55.9305\"/>\n",
       "</g>\n",
       "<!-- 4 -->\n",
       "<g id=\"node5\" class=\"node\"><title>4</title>\n",
       "<polygon fill=\"#e58139\" fill-opacity=\"0.192157\" stroke=\"black\" points=\"262,-53 130,-53 130,-0 262,-0 262,-53\"/>\n",
       "<text text-anchor=\"middle\" x=\"196\" y=\"-37.8\" font-family=\"Times,serif\" font-size=\"14.00\">samples = 6303</text>\n",
       "<text text-anchor=\"middle\" x=\"196\" y=\"-22.8\" font-family=\"Times,serif\" font-size=\"14.00\">value = [3486, 2817]</text>\n",
       "<text text-anchor=\"middle\" x=\"196\" y=\"-7.8\" font-family=\"Times,serif\" font-size=\"14.00\">class = o</text>\n",
       "</g>\n",
       "<!-- 2&#45;&gt;4 -->\n",
       "<g id=\"edge4\" class=\"edge\"><title>2&#45;&gt;4</title>\n",
       "<path fill=\"none\" stroke=\"black\" d=\"M196,-88.9485C196,-80.7153 196,-71.848 196,-63.4814\"/>\n",
       "<polygon fill=\"black\" stroke=\"black\" points=\"199.5,-63.2367 196,-53.2367 192.5,-63.2367 199.5,-63.2367\"/>\n",
       "</g>\n",
       "<!-- 6 -->\n",
       "<g id=\"node7\" class=\"node\"><title>6</title>\n",
       "<polygon fill=\"#399de5\" fill-opacity=\"0.996078\" stroke=\"black\" points=\"385.5,-53 280.5,-53 280.5,-0 385.5,-0 385.5,-53\"/>\n",
       "<text text-anchor=\"middle\" x=\"333\" y=\"-37.8\" font-family=\"Times,serif\" font-size=\"14.00\">samples = 606</text>\n",
       "<text text-anchor=\"middle\" x=\"333\" y=\"-22.8\" font-family=\"Times,serif\" font-size=\"14.00\">value = [3, 603]</text>\n",
       "<text text-anchor=\"middle\" x=\"333\" y=\"-7.8\" font-family=\"Times,serif\" font-size=\"14.00\">class = v</text>\n",
       "</g>\n",
       "<!-- 5&#45;&gt;6 -->\n",
       "<g id=\"edge6\" class=\"edge\"><title>5&#45;&gt;6</title>\n",
       "<path fill=\"none\" stroke=\"black\" d=\"M363.562,-88.9485C359.285,-80.3494 354.664,-71.0586 350.342,-62.3689\"/>\n",
       "<polygon fill=\"black\" stroke=\"black\" points=\"353.387,-60.6318 345.8,-53.2367 347.12,-63.7491 353.387,-60.6318\"/>\n",
       "</g>\n",
       "<!-- 7 -->\n",
       "<g id=\"node8\" class=\"node\"><title>7</title>\n",
       "<polygon fill=\"#399de5\" fill-opacity=\"0.686275\" stroke=\"black\" points=\"502,-53 404,-53 404,-0 502,-0 502,-53\"/>\n",
       "<text text-anchor=\"middle\" x=\"453\" y=\"-37.8\" font-family=\"Times,serif\" font-size=\"14.00\">samples = 21</text>\n",
       "<text text-anchor=\"middle\" x=\"453\" y=\"-22.8\" font-family=\"Times,serif\" font-size=\"14.00\">value = [5, 16]</text>\n",
       "<text text-anchor=\"middle\" x=\"453\" y=\"-7.8\" font-family=\"Times,serif\" font-size=\"14.00\">class = v</text>\n",
       "</g>\n",
       "<!-- 5&#45;&gt;7 -->\n",
       "<g id=\"edge7\" class=\"edge\"><title>5&#45;&gt;7</title>\n",
       "<path fill=\"none\" stroke=\"black\" d=\"M405.532,-88.9485C412.457,-79.9834 419.963,-70.2666 426.919,-61.2629\"/>\n",
       "<polygon fill=\"black\" stroke=\"black\" points=\"429.775,-63.2902 433.119,-53.2367 424.236,-59.0108 429.775,-63.2902\"/>\n",
       "</g>\n",
       "<!-- 9 -->\n",
       "<g id=\"node10\" class=\"node\"><title>9</title>\n",
       "<polygon fill=\"#e58139\" fill-opacity=\"0.913725\" stroke=\"black\" points=\"712,-157 580,-157 580,-89 712,-89 712,-157\"/>\n",
       "<text text-anchor=\"middle\" x=\"646\" y=\"-141.8\" font-family=\"Times,serif\" font-size=\"14.00\">relationship &lt;= 4.5</text>\n",
       "<text text-anchor=\"middle\" x=\"646\" y=\"-126.8\" font-family=\"Times,serif\" font-size=\"14.00\">samples = 11179</text>\n",
       "<text text-anchor=\"middle\" x=\"646\" y=\"-111.8\" font-family=\"Times,serif\" font-size=\"14.00\">value = [10300, 879]</text>\n",
       "<text text-anchor=\"middle\" x=\"646\" y=\"-96.8\" font-family=\"Times,serif\" font-size=\"14.00\">class = o</text>\n",
       "</g>\n",
       "<!-- 8&#45;&gt;9 -->\n",
       "<g id=\"edge9\" class=\"edge\"><title>8&#45;&gt;9</title>\n",
       "<path fill=\"none\" stroke=\"black\" d=\"M646,-192.884C646,-184.778 646,-175.982 646,-167.472\"/>\n",
       "<polygon fill=\"black\" stroke=\"black\" points=\"649.5,-167.299 646,-157.299 642.5,-167.299 649.5,-167.299\"/>\n",
       "</g>\n",
       "<!-- 12 -->\n",
       "<g id=\"node13\" class=\"node\"><title>12</title>\n",
       "<polygon fill=\"#399de5\" fill-opacity=\"0.972549\" stroke=\"black\" points=\"899.5,-157 794.5,-157 794.5,-89 899.5,-89 899.5,-157\"/>\n",
       "<text text-anchor=\"middle\" x=\"847\" y=\"-141.8\" font-family=\"Times,serif\" font-size=\"14.00\">age &lt;= 20.5</text>\n",
       "<text text-anchor=\"middle\" x=\"847\" y=\"-126.8\" font-family=\"Times,serif\" font-size=\"14.00\">samples = 256</text>\n",
       "<text text-anchor=\"middle\" x=\"847\" y=\"-111.8\" font-family=\"Times,serif\" font-size=\"14.00\">value = [7, 249]</text>\n",
       "<text text-anchor=\"middle\" x=\"847\" y=\"-96.8\" font-family=\"Times,serif\" font-size=\"14.00\">class = v</text>\n",
       "</g>\n",
       "<!-- 8&#45;&gt;12 -->\n",
       "<g id=\"edge12\" class=\"edge\"><title>8&#45;&gt;12</title>\n",
       "<path fill=\"none\" stroke=\"black\" d=\"M711.259,-192.884C735.04,-180.815 761.836,-167.218 785.299,-155.311\"/>\n",
       "<polygon fill=\"black\" stroke=\"black\" points=\"787.118,-158.313 794.451,-150.667 783.95,-152.071 787.118,-158.313\"/>\n",
       "</g>\n",
       "<!-- 10 -->\n",
       "<g id=\"node11\" class=\"node\"><title>10</title>\n",
       "<polygon fill=\"#e58139\" fill-opacity=\"0.945098\" stroke=\"black\" points=\"645.5,-53 520.5,-53 520.5,-0 645.5,-0 645.5,-53\"/>\n",
       "<text text-anchor=\"middle\" x=\"583\" y=\"-37.8\" font-family=\"Times,serif\" font-size=\"14.00\">samples = 10325</text>\n",
       "<text text-anchor=\"middle\" x=\"583\" y=\"-22.8\" font-family=\"Times,serif\" font-size=\"14.00\">value = [9800, 525]</text>\n",
       "<text text-anchor=\"middle\" x=\"583\" y=\"-7.8\" font-family=\"Times,serif\" font-size=\"14.00\">class = o</text>\n",
       "</g>\n",
       "<!-- 9&#45;&gt;10 -->\n",
       "<g id=\"edge10\" class=\"edge\"><title>9&#45;&gt;10</title>\n",
       "<path fill=\"none\" stroke=\"black\" d=\"M623.966,-88.9485C618.111,-80.1664 611.775,-70.6629 605.877,-61.815\"/>\n",
       "<polygon fill=\"black\" stroke=\"black\" points=\"608.617,-59.6158 600.158,-53.2367 602.793,-63.4987 608.617,-59.6158\"/>\n",
       "</g>\n",
       "<!-- 11 -->\n",
       "<g id=\"node12\" class=\"node\"><title>11</title>\n",
       "<polygon fill=\"#e58139\" fill-opacity=\"0.290196\" stroke=\"black\" points=\"782.5,-53 663.5,-53 663.5,-0 782.5,-0 782.5,-53\"/>\n",
       "<text text-anchor=\"middle\" x=\"723\" y=\"-37.8\" font-family=\"Times,serif\" font-size=\"14.00\">samples = 854</text>\n",
       "<text text-anchor=\"middle\" x=\"723\" y=\"-22.8\" font-family=\"Times,serif\" font-size=\"14.00\">value = [500, 354]</text>\n",
       "<text text-anchor=\"middle\" x=\"723\" y=\"-7.8\" font-family=\"Times,serif\" font-size=\"14.00\">class = o</text>\n",
       "</g>\n",
       "<!-- 9&#45;&gt;11 -->\n",
       "<g id=\"edge11\" class=\"edge\"><title>9&#45;&gt;11</title>\n",
       "<path fill=\"none\" stroke=\"black\" d=\"M672.931,-88.9485C680.236,-79.9834 688.153,-70.2666 695.489,-61.2629\"/>\n",
       "<polygon fill=\"black\" stroke=\"black\" points=\"698.426,-63.1999 702.029,-53.2367 692.999,-58.7782 698.426,-63.1999\"/>\n",
       "</g>\n",
       "<!-- 13 -->\n",
       "<g id=\"node14\" class=\"node\"><title>13</title>\n",
       "<polygon fill=\"#e58139\" fill-opacity=\"0.666667\" stroke=\"black\" points=\"893,-53 801,-53 801,-0 893,-0 893,-53\"/>\n",
       "<text text-anchor=\"middle\" x=\"847\" y=\"-37.8\" font-family=\"Times,serif\" font-size=\"14.00\">samples = 4</text>\n",
       "<text text-anchor=\"middle\" x=\"847\" y=\"-22.8\" font-family=\"Times,serif\" font-size=\"14.00\">value = [3, 1]</text>\n",
       "<text text-anchor=\"middle\" x=\"847\" y=\"-7.8\" font-family=\"Times,serif\" font-size=\"14.00\">class = o</text>\n",
       "</g>\n",
       "<!-- 12&#45;&gt;13 -->\n",
       "<g id=\"edge13\" class=\"edge\"><title>12&#45;&gt;13</title>\n",
       "<path fill=\"none\" stroke=\"black\" d=\"M847,-88.9485C847,-80.7153 847,-71.848 847,-63.4814\"/>\n",
       "<polygon fill=\"black\" stroke=\"black\" points=\"850.5,-63.2367 847,-53.2367 843.5,-63.2367 850.5,-63.2367\"/>\n",
       "</g>\n",
       "<!-- 14 -->\n",
       "<g id=\"node15\" class=\"node\"><title>14</title>\n",
       "<polygon fill=\"#399de5\" fill-opacity=\"0.984314\" stroke=\"black\" points=\"1016.5,-53 911.5,-53 911.5,-0 1016.5,-0 1016.5,-53\"/>\n",
       "<text text-anchor=\"middle\" x=\"964\" y=\"-37.8\" font-family=\"Times,serif\" font-size=\"14.00\">samples = 252</text>\n",
       "<text text-anchor=\"middle\" x=\"964\" y=\"-22.8\" font-family=\"Times,serif\" font-size=\"14.00\">value = [4, 248]</text>\n",
       "<text text-anchor=\"middle\" x=\"964\" y=\"-7.8\" font-family=\"Times,serif\" font-size=\"14.00\">class = v</text>\n",
       "</g>\n",
       "<!-- 12&#45;&gt;14 -->\n",
       "<g id=\"edge14\" class=\"edge\"><title>12&#45;&gt;14</title>\n",
       "<path fill=\"none\" stroke=\"black\" d=\"M887.921,-88.9485C899.7,-79.4346 912.527,-69.074 924.235,-59.6175\"/>\n",
       "<polygon fill=\"black\" stroke=\"black\" points=\"926.555,-62.2429 932.136,-53.2367 922.157,-56.7973 926.555,-62.2429\"/>\n",
       "</g>\n",
       "</g>\n",
       "</svg>\n"
      ],
      "text/plain": [
       "<graphviz.files.Source at 0x7f1a550ec198>"
      ]
     },
     "execution_count": 67,
     "metadata": {},
     "output_type": "execute_result"
    }
   ],
   "source": [
    "plot_decision_tree(clf, X_train.columns,y_train.name)"
   ]
  },
  {
   "cell_type": "markdown",
   "metadata": {
    "collapsed": true
   },
   "source": [
    "# Exercise 7\n",
    "\n",
    "Plot Top 5 most important features with `plotting_utilities.plot_feature_importances`.\n",
    "\n",
    "Are these features also the most important in the Decision Tree?"
   ]
  },
  {
   "cell_type": "code",
   "execution_count": 74,
   "metadata": {},
   "outputs": [
    {
     "name": "stdout",
     "output_type": "stream",
     "text": [
      "Top 5 Feature importances: [ 0.58787349  0.33623982  0.07313293  0.00275377  0.        ]\n"
     ]
    },
    {
     "data": {
      "image/png": "[encoded data removed]",
      "text/plain": [
       "<matplotlib.figure.Figure at 0x7f1a545e9c18>"
      ]
     },
     "metadata": {},
     "output_type": "display_data"
    }
   ],
   "source": [
    "idx = np.argsort(clf.feature_importances_)[:-6:-1]\n",
    "print('Top 5 Feature importances: {}'.format(clf.feature_importances_[idx]))\n",
    "plot_feature_importances(clf, X_train.columns, 5)"
   ]
  },
  {
   "cell_type": "code",
   "execution_count": 75,
   "metadata": {},
   "outputs": [
    {
     "name": "stdout",
     "output_type": "stream",
     "text": [
      "kinds of relationship: [' Not-in-family' ' Husband' ' Wife' ' Own-child' ' Unmarried'\n",
      " ' Other-relative']\n",
      "kinds of education   : [' Bachelors' ' HS-grad' ' 11th' ' Masters' ' 9th' ' Some-college'\n",
      " ' Assoc-acdm' ' 7th-8th' ' Doctorate' ' Assoc-voc' ' Prof-school'\n",
      " ' 5th-6th' ' 10th' ' 1st-4th' ' Preschool' ' 12th']\n"
     ]
    }
   ],
   "source": [
    "print (\"kinds of relationship: {}\".format(census.relationship.unique()))\n",
    "print ('kinds of education   : {}'.format(census.education.unique()))"
   ]
  },
  {
   "cell_type": "markdown",
   "metadata": {},
   "source": [
    "# Exercise 7\n",
    "- Predict for the test data and \n",
    "- compare with the actual outcome: \n",
    "  - Therefore plot the confusion matrix for the test-data and \n",
    "  - calculate the accuracy\n",
    "      - for the trainings-data\n",
    "      - for the test-data"
   ]
  },
  {
   "cell_type": "code",
   "execution_count": 78,
   "metadata": {},
   "outputs": [
    {
     "name": "stdout",
     "output_type": "stream",
     "text": [
      " ------ Predicted \n",
      " Actual \n"
     ]
    },
    {
     "data": {
      "text/plain": [
       "array([[9737,    9],\n",
       "       [2466,  580]])"
      ]
     },
     "execution_count": 78,
     "metadata": {},
     "output_type": "execute_result"
    }
   ],
   "source": [
    "y_pred = clf.predict(X_test)\n",
    "\n",
    "from sklearn.metrics import confusion_matrix\n",
    "\n",
    "print(\" ------ Predicted \")\n",
    "print(\" Actual \")\n",
    "confusion_matrix(y_test, y_pred)"
   ]
  },
  {
   "cell_type": "code",
   "execution_count": 80,
   "metadata": {},
   "outputs": [
    {
     "name": "stdout",
     "output_type": "stream",
     "text": [
      "Accuracy of Decision Tree classifier on train set with \"score\"-function: 0.80\n",
      "Accuracy of Decision Tree classifier on test set with \"score\"-function: 0.81\n"
     ]
    }
   ],
   "source": [
    "print('Accuracy of Decision Tree classifier on train set with \"score\"-function: {:.2f}'\n",
    "     .format(clf.score(X_train, y_train)))\n",
    "print('Accuracy of Decision Tree classifier on test set with \"score\"-function: {:.2f}'\n",
    "     .format(clf.score(X_test, y_test)))"
   ]
  }
 ],
 "metadata": {
  "anaconda-cloud": {},
  "kernelspec": {
   "display_name": "Python 3",
   "language": "python",
   "name": "python3"
  },
  "language_info": {
   "codemirror_mode": {
    "name": "ipython",
    "version": 3
   },
   "file_extension": ".py",
   "mimetype": "text/x-python",
   "name": "python",
   "nbconvert_exporter": "python",
   "pygments_lexer": "ipython3",
   "version": "3.6.1"
  }
 },
 "nbformat": 4,
 "nbformat_minor": 2
}
