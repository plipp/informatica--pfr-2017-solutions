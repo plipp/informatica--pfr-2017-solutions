{
 "cells": [
  {
   "cell_type": "markdown",
   "metadata": {},
   "source": [
    "# Machine Learning\n",
    "\n",
    "see [ML Infographics](http://usblogs.pwc.com/emerging-technology/machine-learning-101/)"
   ]
  },
  {
   "cell_type": "markdown",
   "metadata": {},
   "source": [
    "# Where is it used ?\n",
    "\n",
    "Fraud Detection, Recommendations, Sales Forecasts ..."
   ]
  },
  {
   "cell_type": "markdown",
   "metadata": {},
   "source": [
    "# Methods\n",
    "\n",
    "- supervised <-> unsupervised\n",
    "- regression <-> classification"
   ]
  },
  {
   "cell_type": "markdown",
   "metadata": {},
   "source": [
    "![ML-methods](http://usblogs.pwc.com/emerging-technology/wp-content/uploads/2017/04/machine-learning-methods-1.png)"
   ]
  },
  {
   "cell_type": "markdown",
   "metadata": {},
   "source": [
    "![ML-methods](http://usblogs.pwc.com/emerging-technology/wp-content/uploads/2017/04/machine-learning-methods-4.png)"
   ]
  },
  {
   "cell_type": "markdown",
   "metadata": {},
   "source": [
    "... and much [more](http://usblogs.pwc.com/emerging-technology/machine-learning-methods-infographic/)"
   ]
  }
 ],
 "metadata": {
  "kernelspec": {
   "display_name": "Python 3",
   "language": "python",
   "name": "python3"
  },
  "language_info": {
   "codemirror_mode": {
    "name": "ipython",
    "version": 3
   },
   "file_extension": ".py",
   "mimetype": "text/x-python",
   "name": "python",
   "nbconvert_exporter": "python",
   "pygments_lexer": "ipython3",
   "version": "3.6.1"
  }
 },
 "nbformat": 4,
 "nbformat_minor": 2
}
