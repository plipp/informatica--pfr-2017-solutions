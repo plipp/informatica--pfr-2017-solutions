{
 "cells": [
  {
   "cell_type": "markdown",
   "metadata": {},
   "source": [
    "# Self Employment Data 2015\n",
    "from [OECD](https://data.oecd.org/emp/self-employment-rate.htm#indicator-chart)"
   ]
  },
  {
   "cell_type": "code",
   "execution_count": 6,
   "metadata": {
    "collapsed": true
   },
   "outputs": [],
   "source": [
    "countries = ['AUS', 'AUT', 'BEL', 'CAN', 'CZE', 'FIN', 'DEU', 'GRC', 'HUN', 'ISL', 'IRL', 'ITA', 'JPN', \n",
    "             'KOR', 'MEX', 'NLD', 'NZL', 'NOR', 'POL', 'PRT', 'SVK', 'ESP', 'SWE', 'CHE', 'TUR', 'GBR', \n",
    "             'USA', 'CHL', 'COL', 'EST', 'ISR', 'RUS', 'SVN', 'EU28', 'EA19', 'LVA']\n",
    "\n",
    "male_selfemployment_rates = [12.13246, 15.39631, 18.74896, 9.18314, 20.97991, 18.87097, \n",
    "                             13.46109, 39.34802, 13.3356, 16.83681, 25.35344, 29.27118, \n",
    "                             12.06516, 27.53898, 31.6945, 19.81751, 17.68489, 9.13669, \n",
    "                             24.15699, 22.95656, 19.00245, 21.16428, 13.93171, 8.73181, \n",
    "                             30.73483, 19.11255, 7.48383, 25.92752, 52.27145, 12.05042, \n",
    "                             15.8517, 8.10048, 19.02411, 19.59021, 19.1384, 14.75558]\n",
    "\n",
    "female_selfemployment_rates = [8.18631, 10.38607, 11.07756, 8.0069, 12.78461, \n",
    "                               9.42761, 7.75637, 29.56566, 8.00408, 7.6802, 8.2774, 18.33204, \n",
    "                               9.7313, 23.56431, 32.81488, 13.36444, 11.50045, 4.57464, \n",
    "                               17.63891, 13.92678, 10.32846, 12.82925, 6.22453, 9.28793, \n",
    "                               38.32216, 10.21743, 5.2896, 25.24502, 49.98448, 6.624, \n",
    "                               9.0243, 6.26909, 13.46641, 11.99529, 11.34129, 8.88987]\n",
    "\n",
    "countries_by_continent = {'AUS':'AUS', 'AUT':'EUR', 'BEL':'EUR', 'CAN':'AM', \n",
    "                          'CZE':'EUR', 'FIN':'EUR', 'DEU':'EUR', 'GRC':'EUR', \n",
    "                          'HUN':'EUR', 'ISL':'EUR', 'IRL':'EUR', 'ITA':'EUR', \n",
    "                          'JPN':'AS',  'KOR':'AS',  'MEX':'AM',  'NLD':'EUR', \n",
    "                          'NZL':'AUS', 'NOR':'EUR', 'POL':'EUR', 'PRT':'EUR', \n",
    "                          'SVK':'EUR', 'ESP':'EUR', 'SWE':'EUR', 'CHE':'EUR', \n",
    "                          'TUR':'EUR', 'GBR':'EUR', 'USA':'AM' , 'CHL':'AM', \n",
    "                          'COL':'AM' , 'EST':'EUR', 'ISR':'AS',  'RUS':'EUR', \n",
    "                          'SVN':'EUR', 'EU28':'EUR','EA19':'AS', 'LVA':'EUR'}"
   ]
  },
  {
   "cell_type": "markdown",
   "metadata": {},
   "source": [
    "# Solutions with Basic Python\n",
    "\n",
    "## Basic Calculations and Statistics"
   ]
  },
  {
   "cell_type": "markdown",
   "metadata": {},
   "source": [
    "### Exercise 1\n",
    "\n",
    "Calculate for each country the overallselfemployment_rate:<br>\n",
    "`selfemployment_rate:=(male_selfemployment_rates+female_selfemployment_rates)/2`\n",
    "\n",
    "(assumes that #women ~#men)"
   ]
  },
  {
   "cell_type": "code",
   "execution_count": 7,
   "metadata": {
    "collapsed": true
   },
   "outputs": [],
   "source": [
    "# check preconditons\n",
    "assert len(male_selfemployment_rates)==len(female_selfemployment_rates)\n",
    "n = len(male_selfemployment_rates)"
   ]
  },
  {
   "cell_type": "code",
   "execution_count": 8,
   "metadata": {},
   "outputs": [
    {
     "data": {
      "text/plain": [
       "[10.159385, 12.89119, 14.913260000000001, 8.59502, 16.882260000000002]"
      ]
     },
     "execution_count": 8,
     "metadata": {},
     "output_type": "execute_result"
    }
   ],
   "source": [
    "# Alternative 1: With for loops\n",
    "selfemployment_rate = []\n",
    "for i in range(n):\n",
    "    selfemployment_rate.append((male_selfemployment_rates[i]+female_selfemployment_rates[i])/2)\n",
    "        \n",
    "\n",
    "# check postcondition\n",
    "assert n==len(selfemployment_rate)\n",
    "\n",
    "selfemployment_rate[:5]"
   ]
  },
  {
   "cell_type": "code",
   "execution_count": 9,
   "metadata": {},
   "outputs": [
    {
     "data": {
      "text/plain": [
       "[10.159385, 12.89119, 14.913260000000001, 8.59502, 16.882260000000002]"
      ]
     },
     "execution_count": 9,
     "metadata": {},
     "output_type": "execute_result"
    }
   ],
   "source": [
    "# Alternative 2: With list comprehension\n",
    "selfemployment_rate = [(msr+fsr)/2 for msr, fsr in zip(male_selfemployment_rates,female_selfemployment_rates)]\n",
    "\n",
    "# check postcondition\n",
    "assert n==len(selfemployment_rate)\n",
    "\n",
    "selfemployment_rate[:5]"
   ]
  },
  {
   "cell_type": "markdown",
   "metadata": {},
   "source": [
    "### Exercise 2\n",
    "Calculate\n",
    "- maximum\n",
    "- minimum\n",
    "- sum\n",
    "- mean\n",
    "- [standard deviation](https://en.wikipedia.org/wiki/Standard_deviation)\n",
    "\n",
    "for/of all selfemployment_rates."
   ]
  },
  {
   "cell_type": "code",
   "execution_count": 10,
   "metadata": {},
   "outputs": [
    {
     "data": {
      "text/plain": [
       "51.127965"
      ]
     },
     "execution_count": 10,
     "metadata": {},
     "output_type": "execute_result"
    }
   ],
   "source": [
    "max(selfemployment_rate)"
   ]
  },
  {
   "cell_type": "code",
   "execution_count": 11,
   "metadata": {},
   "outputs": [
    {
     "data": {
      "text/plain": [
       "6.386715000000001"
      ]
     },
     "execution_count": 11,
     "metadata": {},
     "output_type": "execute_result"
    }
   ],
   "source": [
    "min(selfemployment_rate)"
   ]
  },
  {
   "cell_type": "code",
   "execution_count": 12,
   "metadata": {},
   "outputs": [
    {
     "data": {
      "text/plain": [
       "603.3900649999999"
      ]
     },
     "execution_count": 12,
     "metadata": {},
     "output_type": "execute_result"
    }
   ],
   "source": [
    "sum(selfemployment_rate)"
   ]
  },
  {
   "cell_type": "code",
   "execution_count": 13,
   "metadata": {},
   "outputs": [
    {
     "data": {
      "text/plain": [
       "16.760835138888886"
      ]
     },
     "execution_count": 13,
     "metadata": {},
     "output_type": "execute_result"
    }
   ],
   "source": [
    "# Alternative 1: mean\n",
    "sum(selfemployment_rate)/len(selfemployment_rate)"
   ]
  },
  {
   "cell_type": "code",
   "execution_count": 14,
   "metadata": {},
   "outputs": [
    {
     "data": {
      "text/plain": [
       "16.76083513888889"
      ]
     },
     "execution_count": 14,
     "metadata": {},
     "output_type": "execute_result"
    }
   ],
   "source": [
    "# Alternative 2: mean\n",
    "from statistics import mean\n",
    "mean(selfemployment_rate)"
   ]
  },
  {
   "cell_type": "code",
   "execution_count": 15,
   "metadata": {},
   "outputs": [
    {
     "data": {
      "text/plain": [
       "9.21531227766451"
      ]
     },
     "execution_count": 15,
     "metadata": {},
     "output_type": "execute_result"
    }
   ],
   "source": [
    "# Alternative 1: by hand\n",
    "from math import sqrt\n",
    "m = mean(selfemployment_rate)\n",
    "sqrt(sum([(v - m)**2 for v in selfemployment_rate])/len(selfemployment_rate))"
   ]
  },
  {
   "cell_type": "code",
   "execution_count": 16,
   "metadata": {},
   "outputs": [
    {
     "data": {
      "text/plain": [
       "9.21531227766451"
      ]
     },
     "execution_count": 16,
     "metadata": {},
     "output_type": "execute_result"
    }
   ],
   "source": [
    "# Alternative 2: using statistics module\n",
    "from statistics import pstdev\n",
    "pstdev(selfemployment_rate)"
   ]
  },
  {
   "cell_type": "markdown",
   "metadata": {},
   "source": [
    "### Exercise 3\n",
    "Find the Country with the highest `selfemployment_rate`."
   ]
  },
  {
   "cell_type": "code",
   "execution_count": 17,
   "metadata": {},
   "outputs": [
    {
     "data": {
      "text/plain": [
       "'COL'"
      ]
     },
     "execution_count": 17,
     "metadata": {},
     "output_type": "execute_result"
    }
   ],
   "source": [
    "countries[selfemployment_rate.index(max(selfemployment_rate))]"
   ]
  },
  {
   "cell_type": "markdown",
   "metadata": {},
   "source": [
    "### Exercise 4\n",
    "Find the the sum of all `selfemployment_rate`s, which are between `10-15`."
   ]
  },
  {
   "cell_type": "code",
   "execution_count": 18,
   "metadata": {},
   "outputs": [
    {
     "data": {
      "text/plain": [
       "174.81038999999996"
      ]
     },
     "execution_count": 18,
     "metadata": {},
     "output_type": "execute_result"
    }
   ],
   "source": [
    "sum(list(filter(lambda r: r>10 and r<15, selfemployment_rate)))"
   ]
  },
  {
   "cell_type": "markdown",
   "metadata": {},
   "source": [
    "## Aggregetions"
   ]
  },
  {
   "cell_type": "markdown",
   "metadata": {},
   "source": [
    "### Exercise 5\n",
    "Calculate the mean of the selfemployment-rates per continent."
   ]
  },
  {
   "cell_type": "code",
   "execution_count": 19,
   "metadata": {},
   "outputs": [
    {
     "name": "stdout",
     "output_type": "stream",
     "text": [
      "continent_with_rate = [('AUS', 10.159385), ('EUR', 12.89119), ('EUR', 14.913260000000001), ('AM', 8.59502), ('EUR', 16.882260000000002), ('EUR', 14.14929), ('EUR', 10.608730000000001), ('EUR', 34.45684), ('EUR', 10.66984), ('EUR', 12.258505), ('EUR', 16.81542), ('EUR', 23.80161), ('AS', 10.89823), ('AS', 25.551645), ('AM', 32.254690000000004), ('EUR', 16.590975), ('AUS', 14.59267), ('EUR', 6.855665), ('EUR', 20.89795), ('EUR', 18.441670000000002), ('EUR', 14.665455), ('EUR', 16.996765), ('EUR', 10.07812), ('EUR', 9.00987), ('EUR', 34.528495), ('EUR', 14.66499), ('AM', 6.386715000000001), ('AM', 25.58627), ('AM', 51.127965), ('EUR', 9.33721), ('AS', 12.437999999999999), ('EUR', 7.184785), ('EUR', 16.245260000000002), ('EUR', 15.79275), ('AS', 15.239845), ('EUR', 11.822725)]\n",
      "AM -> [8.59502, 32.254690000000004, 6.386715000000001, 25.58627, 51.127965]\n"
     ]
    },
    {
     "data": {
      "text/plain": [
       "{'AM': 24.790132, 'AS': 16.03193, 'AUS': 12.3760275, 'EUR': 15.6223852}"
      ]
     },
     "execution_count": 19,
     "metadata": {},
     "output_type": "execute_result"
    }
   ],
   "source": [
    "continent_with_rate = [(countries_by_continent[country], rate) for country,rate in zip(countries,selfemployment_rate)]\n",
    "print ('continent_with_rate = {}'.format(continent_with_rate))\n",
    "\n",
    "# ------------------------------------------\n",
    "from collections import defaultdict\n",
    "\n",
    "rate_by_continent = defaultdict(list)\n",
    "for c,r in continent_with_rate:\n",
    "    rate_by_continent[c].append(r)\n",
    "    \n",
    "print('AM -> {}'.format(rate_by_continent['AM']))\n",
    "\n",
    "# ------------------------------------------\n",
    "mean_rates_by_continent = {c:mean(r) for c,r in rate_by_continent.items()}\n",
    "mean_rates_by_continent"
   ]
  }
 ],
 "metadata": {
  "anaconda-cloud": {},
  "kernelspec": {
   "display_name": "Python 3",
   "language": "python",
   "name": "python3"
  },
  "language_info": {
   "codemirror_mode": {
    "name": "ipython",
    "version": 3
   },
   "file_extension": ".py",
   "mimetype": "text/x-python",
   "name": "python",
   "nbconvert_exporter": "python",
   "pygments_lexer": "ipython3",
   "version": "3.6.1"
  }
 },
 "nbformat": 4,
 "nbformat_minor": 1
}
