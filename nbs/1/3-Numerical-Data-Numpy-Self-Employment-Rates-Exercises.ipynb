{
 "cells": [
  {
   "cell_type": "markdown",
   "metadata": {},
   "source": [
    "# Self Employment Data 2015\n",
    "from [OECD](https://data.oecd.org/emp/self-employment-rate.htm#indicator-chart)"
   ]
  },
  {
   "cell_type": "code",
   "execution_count": 1,
   "metadata": {
    "collapsed": true
   },
   "outputs": [],
   "source": [
    "countries = ['AUS', 'AUT', 'BEL', 'CAN', 'CZE', 'FIN', 'DEU', 'GRC', 'HUN', 'ISL', 'IRL', 'ITA', 'JPN', \n",
    "             'KOR', 'MEX', 'NLD', 'NZL', 'NOR', 'POL', 'PRT', 'SVK', 'ESP', 'SWE', 'CHE', 'TUR', 'GBR', \n",
    "             'USA', 'CHL', 'COL', 'EST', 'ISR', 'RUS', 'SVN', 'EU28', 'EA19', 'LVA']\n",
    "\n",
    "male_selfemployment_rates = [12.13246, 15.39631, 18.74896, 9.18314, 20.97991, 18.87097, \n",
    "                             13.46109, 39.34802, 13.3356, 16.83681, 25.35344, 29.27118, \n",
    "                             12.06516, 27.53898, 31.6945, 19.81751, 17.68489, 9.13669, \n",
    "                             24.15699, 22.95656, 19.00245, 21.16428, 13.93171, 8.73181, \n",
    "                             30.73483, 19.11255, 7.48383, 25.92752, 52.27145, 12.05042, \n",
    "                             15.8517, 8.10048, 19.02411, 19.59021, 19.1384, 14.75558]\n",
    "\n",
    "female_selfemployment_rates = [8.18631, 10.38607, 11.07756, 8.0069, 12.78461, \n",
    "                               9.42761, 7.75637, 29.56566, 8.00408, 7.6802, 8.2774, 18.33204, \n",
    "                               9.7313, 23.56431, 32.81488, 13.36444, 11.50045, 4.57464, \n",
    "                               17.63891, 13.92678, 10.32846, 12.82925, 6.22453, 9.28793, \n",
    "                               38.32216, 10.21743, 5.2896, 25.24502, 49.98448, 6.624, \n",
    "                               9.0243, 6.26909, 13.46641, 11.99529, 11.34129, 8.88987]"
   ]
  },
  {
   "cell_type": "code",
   "execution_count": 2,
   "metadata": {},
   "outputs": [
    {
     "data": {
      "text/plain": [
       "array([ 12.13246,  15.39631,  18.74896,   9.18314,  20.97991,  18.87097,\n",
       "        13.46109,  39.34802,  13.3356 ,  16.83681,  25.35344,  29.27118,\n",
       "        12.06516,  27.53898,  31.6945 ,  19.81751,  17.68489,   9.13669,\n",
       "        24.15699,  22.95656,  19.00245,  21.16428,  13.93171,   8.73181,\n",
       "        30.73483,  19.11255,   7.48383,  25.92752,  52.27145,  12.05042,\n",
       "        15.8517 ,   8.10048,  19.02411,  19.59021,  19.1384 ,  14.75558])"
      ]
     },
     "execution_count": 2,
     "metadata": {},
     "output_type": "execute_result"
    }
   ],
   "source": [
    "import numpy as np\n",
    "\n",
    "np_male_selfemployment_rates = np.array(male_selfemployment_rates)\n",
    "np_male_selfemployment_rates"
   ]
  },
  {
   "cell_type": "code",
   "execution_count": 3,
   "metadata": {},
   "outputs": [
    {
     "data": {
      "text/plain": [
       "array([  8.18631,  10.38607,  11.07756,   8.0069 ,  12.78461,   9.42761,\n",
       "         7.75637,  29.56566,   8.00408,   7.6802 ,   8.2774 ,  18.33204,\n",
       "         9.7313 ,  23.56431,  32.81488,  13.36444,  11.50045,   4.57464,\n",
       "        17.63891,  13.92678,  10.32846,  12.82925,   6.22453,   9.28793,\n",
       "        38.32216,  10.21743,   5.2896 ,  25.24502,  49.98448,   6.624  ,\n",
       "         9.0243 ,   6.26909,  13.46641,  11.99529,  11.34129,   8.88987])"
      ]
     },
     "execution_count": 3,
     "metadata": {},
     "output_type": "execute_result"
    }
   ],
   "source": [
    "np_female_selfemployment_rates = np.array(female_selfemployment_rates)\n",
    "np_female_selfemployment_rates"
   ]
  },
  {
   "cell_type": "markdown",
   "metadata": {},
   "source": [
    "# Solutions with numpy\n",
    "\n",
    "## Basic Calculations and Statistics"
   ]
  },
  {
   "cell_type": "markdown",
   "metadata": {},
   "source": [
    "### Exercise 1\n",
    "\n",
    "Calculate for each country the overallselfemployment_rate:<br>\n",
    "`selfemployment_rate:=(male_selfemployment_rates+female_selfemployment_rates)/2`\n",
    "\n",
    "(assumes that #women ~#men)"
   ]
  },
  {
   "cell_type": "code",
   "execution_count": 18,
   "metadata": {},
   "outputs": [
    {
     "data": {
      "text/plain": [
       "array([ 10.159385,  12.89119 ,  14.91326 ,   8.59502 ,  16.88226 ])"
      ]
     },
     "execution_count": 18,
     "metadata": {},
     "output_type": "execute_result"
    }
   ],
   "source": [
    "assert len(np_male_selfemployment_rates) == len(female_selfemployment_rates)\n",
    "\n",
    "selfemployment_rate = (np_male_selfemployment_rates + np_female_selfemployment_rates)/2\n",
    "\n",
    "assert len(selfemployment_rate)==len(np_male_selfemployment_rates)\n",
    "selfemployment_rate[:5]"
   ]
  },
  {
   "cell_type": "markdown",
   "metadata": {},
   "source": [
    "### Exercise 2\n",
    "Calculate\n",
    "- maximum\n",
    "- minimum\n",
    "- sum\n",
    "- mean\n",
    "- [standard deviation](https://en.wikipedia.org/wiki/Standard_deviation)\n",
    "\n",
    "for/of all selfemployment_rates."
   ]
  },
  {
   "cell_type": "code",
   "execution_count": 19,
   "metadata": {},
   "outputs": [
    {
     "data": {
      "text/plain": [
       "51.127965000000003"
      ]
     },
     "execution_count": 19,
     "metadata": {},
     "output_type": "execute_result"
    }
   ],
   "source": [
    "np.max(selfemployment_rate)"
   ]
  },
  {
   "cell_type": "code",
   "execution_count": 20,
   "metadata": {},
   "outputs": [
    {
     "data": {
      "text/plain": [
       "6.3867150000000006"
      ]
     },
     "execution_count": 20,
     "metadata": {},
     "output_type": "execute_result"
    }
   ],
   "source": [
    "np.min(selfemployment_rate)"
   ]
  },
  {
   "cell_type": "code",
   "execution_count": 23,
   "metadata": {},
   "outputs": [
    {
     "data": {
      "text/plain": [
       "603.39006499999994"
      ]
     },
     "execution_count": 23,
     "metadata": {},
     "output_type": "execute_result"
    }
   ],
   "source": [
    "np.sum(selfemployment_rate)"
   ]
  },
  {
   "cell_type": "code",
   "execution_count": 24,
   "metadata": {},
   "outputs": [
    {
     "data": {
      "text/plain": [
       "16.760835138888886"
      ]
     },
     "execution_count": 24,
     "metadata": {},
     "output_type": "execute_result"
    }
   ],
   "source": [
    "np.mean(selfemployment_rate)"
   ]
  },
  {
   "cell_type": "code",
   "execution_count": 25,
   "metadata": {},
   "outputs": [
    {
     "data": {
      "text/plain": [
       "9.2153122776645127"
      ]
     },
     "execution_count": 25,
     "metadata": {},
     "output_type": "execute_result"
    }
   ],
   "source": [
    "np.std(selfemployment_rate)"
   ]
  },
  {
   "cell_type": "markdown",
   "metadata": {},
   "source": [
    "### Exercise 3\n",
    "Find the Country with the highest `selfemployment_rate`."
   ]
  },
  {
   "cell_type": "code",
   "execution_count": 27,
   "metadata": {},
   "outputs": [
    {
     "data": {
      "text/plain": [
       "'COL'"
      ]
     },
     "execution_count": 27,
     "metadata": {},
     "output_type": "execute_result"
    }
   ],
   "source": [
    "countries[selfemployment_rate.argmax()]"
   ]
  },
  {
   "cell_type": "markdown",
   "metadata": {},
   "source": [
    "### Exercise 4\n",
    "Find the the sum of all `selfemployment_rate`s, which are between `10-15`."
   ]
  },
  {
   "cell_type": "code",
   "execution_count": 30,
   "metadata": {},
   "outputs": [
    {
     "data": {
      "text/plain": [
       "174.81038999999996"
      ]
     },
     "execution_count": 30,
     "metadata": {},
     "output_type": "execute_result"
    }
   ],
   "source": [
    "selfemployment_rate[(selfemployment_rate>10) & (selfemployment_rate<15)].sum()"
   ]
  },
  {
   "cell_type": "markdown",
   "metadata": {},
   "source": [
    "## Aggregetions"
   ]
  },
  {
   "cell_type": "code",
   "execution_count": null,
   "metadata": {
    "collapsed": true
   },
   "outputs": [],
   "source": [
    "# not easier than with simple python => Won't do here (again)"
   ]
  }
 ],
 "metadata": {
  "anaconda-cloud": {},
  "kernelspec": {
   "display_name": "Python 3",
   "language": "python",
   "name": "python3"
  },
  "language_info": {
   "codemirror_mode": {
    "name": "ipython",
    "version": 3
   },
   "file_extension": ".py",
   "mimetype": "text/x-python",
   "name": "python",
   "nbconvert_exporter": "python",
   "pygments_lexer": "ipython3",
   "version": "3.6.1"
  }
 },
 "nbformat": 4,
 "nbformat_minor": 1
}
